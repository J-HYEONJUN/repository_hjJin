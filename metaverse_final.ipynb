{
 "cells": [
  {
   "cell_type": "code",
   "execution_count": 95,
   "id": "cb9a8a08",
   "metadata": {},
   "outputs": [],
   "source": [
    "import pandas as pd\n",
    "import re\n",
    "import string\n",
    "import nltk\n",
    "import ssl\n",
    "from nltk import word_tokenize, pos_tag\n",
    "from nltk.corpus import stopwords\n",
    "from nltk.stem import WordNetLemmatizer"
   ]
  },
  {
   "cell_type": "code",
   "execution_count": 96,
   "id": "b653b91d",
   "metadata": {},
   "outputs": [
    {
     "name": "stdout",
     "output_type": "stream",
     "text": [
      "                               reviewId             userName  \\\n",
      "0  8b33921b-b971-49ad-9c43-5f46535d8481       Rhylenn Taylor   \n",
      "1  ddfa4628-ecd7-403d-b4f8-976655986017      Addalaide Clark   \n",
      "2  8d9d55dd-df25-4329-af58-2178007c5434  jennavie kajornklin   \n",
      "3  493e1a17-3af8-4e60-b5d2-a1f9f1056355              Josilyn   \n",
      "4  4ac6c4f5-c019-46f0-b829-8e98d19a93ea                  Eli   \n",
      "\n",
      "                                             content  score  thumbsUpCount  \\\n",
      "0  Perfect App! Though, There are a few problems ...      5            609   \n",
      "1  I love this game. I have so much fun playing w...      4           1384   \n",
      "2  Roblox is my favorite game. But when I play on...      4            576   \n",
      "3  This game is great, amazing almost. But my sit...      1            166   \n",
      "4  been glitching and completely freezing in the ...      1            143   \n",
      "\n",
      "  reviewCreatedVersion                  at appVersion  \n",
      "0            2.578.564 2023-06-24 03:07:01  2.578.564  \n",
      "1            2.578.564 2023-06-25 16:16:14  2.578.564  \n",
      "2            2.578.564 2023-06-21 12:12:21  2.578.564  \n",
      "3            2.578.564 2023-06-24 16:21:53  2.578.564  \n",
      "4            2.578.564 2023-06-24 02:22:29  2.578.564  \n"
     ]
    }
   ],
   "source": [
    "# !pip install openpyxl 해야함\n",
    "\n",
    "file_path = 'C:/Users/USER/OneDrive - 금오공과대학교/02_연구실/02_김민준교수님/2_data\\ROBLOX_DATA_PS.xlsx'\n",
    "\n",
    "df = pd.read_excel(file_path, engine='openpyxl')\n",
    "\n",
    "print(df.head())"
   ]
  },
  {
   "cell_type": "code",
   "execution_count": 97,
   "id": "d4e3239a",
   "metadata": {},
   "outputs": [
    {
     "name": "stdout",
     "output_type": "stream",
     "text": [
      "중복된 행 수: 0\n",
      "중복된 행이 없습니다.\n"
     ]
    }
   ],
   "source": [
    "duplicates = df[df.duplicated(subset=['reviewId', 'at', 'content', 'score'], keep=False)]\n",
    "print(f\"중복된 행 수: {len(duplicates)}\")\n",
    "\n",
    "if not duplicates.empty:\n",
    "    df = df.drop_duplicates(subset=['reviewId', 'at', 'content', 'score'], keep='first')\n",
    "    print(\"중복된 행을 제거했습니다.\")\n",
    "else:\n",
    "    print(\"중복된 행이 없습니다.\")"
   ]
  },
  {
   "cell_type": "code",
   "execution_count": 98,
   "id": "6df585c8",
   "metadata": {},
   "outputs": [
    {
     "name": "stdout",
     "output_type": "stream",
     "text": [
      "showing info https://raw.githubusercontent.com/nltk/nltk_data/gh-pages/index.xml\n"
     ]
    },
    {
     "name": "stderr",
     "output_type": "stream",
     "text": [
      "[nltk_data] Downloading package punkt to\n",
      "[nltk_data]     C:\\Users\\USER\\AppData\\Roaming\\nltk_data...\n",
      "[nltk_data]   Package punkt is already up-to-date!\n",
      "[nltk_data] Downloading package stopwords to\n",
      "[nltk_data]     C:\\Users\\USER\\AppData\\Roaming\\nltk_data...\n",
      "[nltk_data]   Package stopwords is already up-to-date!\n",
      "[nltk_data] Downloading package wordnet to\n",
      "[nltk_data]     C:\\Users\\USER\\AppData\\Roaming\\nltk_data...\n",
      "[nltk_data]   Package wordnet is already up-to-date!\n",
      "[nltk_data] Downloading package averaged_perceptron_tagger to\n",
      "[nltk_data]     C:\\Users\\USER\\AppData\\Roaming\\nltk_data...\n",
      "[nltk_data]   Package averaged_perceptron_tagger is already up-to-\n",
      "[nltk_data]       date!\n"
     ]
    },
    {
     "data": {
      "text/plain": [
       "True"
      ]
     },
     "execution_count": 98,
     "metadata": {},
     "output_type": "execute_result"
    }
   ],
   "source": [
    "# NLTK 다운로드 설정\n",
    "try:\n",
    "    _create_unverified_https_context = ssl._create_unverified_context\n",
    "except AttributeError:\n",
    "    pass\n",
    "else:\n",
    "    ssl._create_default_https_context = _create_unverified_https_context\n",
    "\n",
    "nltk.download()\n",
    "\n",
    "nltk.download('punkt')\n",
    "nltk.download('stopwords')\n",
    "nltk.download('wordnet')\n",
    "nltk.download('averaged_perceptron_tagger')"
   ]
  },
  {
   "cell_type": "markdown",
   "id": "c9623180",
   "metadata": {},
   "source": [
    "이모지 제거, 품사 태깅, 소문자, 마침표, 불용어, 표제어 추출 함수"
   ]
  },
  {
   "cell_type": "code",
   "execution_count": 99,
   "id": "537faa0a",
   "metadata": {},
   "outputs": [],
   "source": [
    "def remove_emoji(text):\n",
    "    emoji_pattern = re.compile(\"[\"\n",
    "        u\"\\U0001F600-\\U0001F64F\"\n",
    "        u\"\\U0001F300-\\U0001F5FF\"\n",
    "        u\"\\U0001F680-\\U0001F6FF\"\n",
    "        u\"\\U0001F1E0-\\U0001F1FF\"\n",
    "        \"]+\", flags=re.UNICODE)\n",
    "    return emoji_pattern.sub(r'', text)\n",
    "\n",
    "# 명사만 추출할거라 없어도 됨\n",
    "def get_wordnet_pos(tag):\n",
    "    if tag.startswith('J'): # 형용사\n",
    "        return 'a'\n",
    "    elif tag.startswith('V'): \n",
    "        return 'v'\n",
    "    elif tag.startswith('N'):\n",
    "        return 'n'\n",
    "    elif tag.startswith('R'): # 부사\n",
    "        return 'r'\n",
    "    else:\n",
    "        return 'n'\n",
    "\n",
    "lemmatizer = WordNetLemmatizer()\n",
    "stop_words = set(stopwords.words('english'))\n",
    "\n",
    "def preprocess_text(text):\n",
    "    if not isinstance(text, str):\n",
    "        return []\n",
    "    text = text.lower()\n",
    "    text = remove_emoji(text)\n",
    "    text = text.translate(str.maketrans('', '', string.punctuation))\n",
    "    tokens = word_tokenize(text)\n",
    "    tokens = [word for word in tokens if word not in stop_words]\n",
    "    tagged_tokens = pos_tag(tokens)\n",
    "    \n",
    "    # 여기서 명사만 선택\n",
    "    nouns = [word for word, tag in tagged_tokens if tag.startswith(\"NN\")]\n",
    "    \n",
    "    # 명사만 표제어 추출\n",
    "    lemmatized_nouns = [lemmatizer.lemmatize(word, 'n') for word in nouns]\n",
    "    return lemmatized_nouns"
   ]
  },
  {
   "cell_type": "code",
   "execution_count": 100,
   "id": "b94c58c4",
   "metadata": {},
   "outputs": [
    {
     "name": "stdout",
     "output_type": "stream",
     "text": [
      "                               reviewId             userName  \\\n",
      "0  8b33921b-b971-49ad-9c43-5f46535d8481       Rhylenn Taylor   \n",
      "1  ddfa4628-ecd7-403d-b4f8-976655986017      Addalaide Clark   \n",
      "2  8d9d55dd-df25-4329-af58-2178007c5434  jennavie kajornklin   \n",
      "3  493e1a17-3af8-4e60-b5d2-a1f9f1056355              Josilyn   \n",
      "4  4ac6c4f5-c019-46f0-b829-8e98d19a93ea                  Eli   \n",
      "\n",
      "                                             content  score  thumbsUpCount  \\\n",
      "0  Perfect App! Though, There are a few problems ...      5            609   \n",
      "1  I love this game. I have so much fun playing w...      4           1384   \n",
      "2  Roblox is my favorite game. But when I play on...      4            576   \n",
      "3  This game is great, amazing almost. But my sit...      1            166   \n",
      "4  been glitching and completely freezing in the ...      1            143   \n",
      "\n",
      "  reviewCreatedVersion                  at appVersion  \\\n",
      "0            2.578.564 2023-06-24 03:07:01  2.578.564   \n",
      "1            2.578.564 2023-06-25 16:16:14  2.578.564   \n",
      "2            2.578.564 2023-06-21 12:12:21  2.578.564   \n",
      "3            2.578.564 2023-06-24 16:21:53  2.578.564   \n",
      "4            2.578.564 2023-06-24 02:22:29  2.578.564   \n",
      "\n",
      "                                              tokens  token_count  \n",
      "0  [problem, creator, animation, animation, game,...           15  \n",
      "1  [game, fun, friend, family, issue, game, scree...           14  \n",
      "2  [roblox, game, play, chromebook, frustrating, ...           20  \n",
      "3  [game, situation, everytime, play, roblox, pla...           16  \n",
      "4  [game, computer, review, computer, didnt, issu...           12  \n"
     ]
    }
   ],
   "source": [
    "# 토큰화, 토큰화 후 10 토큰 미만 문장 제거\n",
    "df['tokens'] = df['content'].apply(preprocess_text)\n",
    "df['token_count'] = df['tokens'].apply(len)\n",
    "df_filtered = df[df['token_count'] >= 10].copy()\n",
    "\n",
    "print(df_filtered.head())"
   ]
  },
  {
   "cell_type": "markdown",
   "id": "29f72eec",
   "metadata": {},
   "source": [
    "gensim 설치 안될때  \n",
    "import sys  \n",
    "print(sys.executable)"
   ]
  },
  {
   "cell_type": "code",
   "execution_count": 101,
   "id": "7884d2e5",
   "metadata": {},
   "outputs": [],
   "source": [
    "# LDA\n",
    "# conda에서 설치, conda install -c conda-forge gensim\n",
    "import gensim\n",
    "from gensim import corpora\n",
    "from gensim.models import LdaModel\n",
    "\n",
    "texts = df_filtered['tokens'].tolist() # 각 문장을 리스트 형태의 리스트로 추출\n",
    "dictionary = corpora.Dictionary(texts)\n",
    "corpus = [dictionary.doc2bow(text) for text in texts] # bag of word 형식으로 변환\n"
   ]
  },
  {
   "cell_type": "code",
   "execution_count": 102,
   "id": "456cf8e5",
   "metadata": {},
   "outputs": [
    {
     "data": {
      "image/png": "[encoded data removed]",
      "text/plain": [
       "<Figure size 1200x600 with 1 Axes>"
      ]
     },
     "metadata": {},
     "output_type": "display_data"
    }
   ],
   "source": [
    "import matplotlib.pyplot as plt\n",
    "from collections import Counter\n",
    "\n",
    "# 모든 토큰을 하나의 리스트로 합치기\n",
    "all_tokens = [token for tokens in df_filtered['tokens'] for token in tokens]\n",
    "\n",
    "# 토큰 빈도수 계산\n",
    "token_counts = Counter(all_tokens)\n",
    "\n",
    "# 상위 30개 토큰 추출\n",
    "most_common = token_counts.most_common(30)\n",
    "words, counts = zip(*most_common)\n",
    "\n",
    "# 시각화\n",
    "plt.figure(figsize=(12, 6))\n",
    "plt.bar(words, counts)\n",
    "plt.xticks(rotation=45)\n",
    "plt.title(\"Top 20 Token Frequencies\")\n",
    "plt.xlabel(\"Token\")\n",
    "plt.ylabel(\"Frequency\")\n",
    "plt.tight_layout()\n",
    "plt.show()\n"
   ]
  },
  {
   "cell_type": "code",
   "execution_count": 103,
   "id": "da81628f",
   "metadata": {},
   "outputs": [
    {
     "data": {
      "image/png": "[encoded data removed]",
      "text/plain": [
       "<Figure size 640x480 with 1 Axes>"
      ]
     },
     "metadata": {},
     "output_type": "display_data"
    },
    {
     "name": "stdout",
     "output_type": "stream",
     "text": [
      "Best num_topics = 13, coherence = 0.3852\n"
     ]
    }
   ],
   "source": [
    "from gensim.models import CoherenceModel\n",
    "\n",
    "def compute_coherence_values(dictionary, corpus, texts, start, limit, step):\n",
    "    coherence_values = []\n",
    "    model_list = []\n",
    "    \n",
    "    for num_topics in range(start, limit, step):\n",
    "        model = LdaModel(corpus=corpus,\n",
    "                         id2word=dictionary,\n",
    "                         num_topics=num_topics,\n",
    "                         passes=10,\n",
    "                         random_state=42)\n",
    "        model_list.append(model)\n",
    "        coherencemodel = CoherenceModel(model=model, \n",
    "                                        texts=texts, \n",
    "                                        dictionary=dictionary, \n",
    "                                        coherence='c_v')\n",
    "        coherence_values.append(coherencemodel.get_coherence())\n",
    "    \n",
    "    return model_list, coherence_values\n",
    "\n",
    "# 파라미터 설정\n",
    "start, limit, step = 2, 31, 1  # 토픽 개수: 2 ~ 30\n",
    "\n",
    "# 실행\n",
    "model_list, coherence_values = compute_coherence_values(dictionary=dictionary,\n",
    "                                                        corpus=corpus,\n",
    "                                                        texts=texts,\n",
    "                                                        start=start,\n",
    "                                                        limit=limit,\n",
    "                                                        step=step)\n",
    "\n",
    "# 시각화\n",
    "x = range(start, limit, step)\n",
    "plt.plot(x, coherence_values)\n",
    "plt.xlabel(\"Num Topics\")\n",
    "plt.ylabel(\"Coherence Score\")\n",
    "plt.title(\"Optimal Number of Topics\")\n",
    "plt.show()\n",
    "\n",
    "# 최고 coherence 값을 가진 모델 확인\n",
    "optimal_index = coherence_values.index(max(coherence_values))\n",
    "optimal_model = model_list[optimal_index]\n",
    "print(f\"Best num_topics = {x[optimal_index]}, coherence = {coherence_values[optimal_index]:.4f}\")\n"
   ]
  },
  {
   "cell_type": "code",
   "execution_count": 104,
   "id": "e7ea149c",
   "metadata": {},
   "outputs": [],
   "source": [
    "# 모델 1: 토픽 개수 5개\n",
    "lda_model_1 = LdaModel(corpus=corpus,\n",
    "                       id2word=dictionary,\n",
    "                       num_topics=5,\n",
    "                       passes=10,\n",
    "                       random_state=42)\n",
    "\n",
    "# 모델 2: 토픽 개수 13개\n",
    "lda_model_2 = LdaModel(corpus=corpus,\n",
    "                       id2word=dictionary,\n",
    "                       num_topics=13,\n",
    "                       passes=10,\n",
    "                       random_state=42)"
   ]
  },
  {
   "cell_type": "code",
   "execution_count": 105,
   "id": "826fa426",
   "metadata": {},
   "outputs": [
    {
     "name": "stdout",
     "output_type": "stream",
     "text": [
      "[모델 1] 토픽 5개:\n",
      "Topic 1 keywords: ['robux', 'money', 'game', 'thing', 'dont', 'buy', 'get', 'people', 'stuff', 'roblox', 'cost', 'pay', 'item', 'house', 'avatar']\n",
      "Topic 2 keywords: ['game', 'roblox', 'fix', 'play', 'please', 'problem', 'star', 'im', 'pls', 'bug', 'time', 'cant', 'glitch', 'work', 'lag']\n",
      "Topic 3 keywords: ['game', 'play', 'roblox', 'fun', 'friend', 'people', 'love', 'thing', 'lot', 'kid', 'star', 'dont', 'app', 'time', 'thats']\n",
      "Topic 4 keywords: ['phone', 'play', 'computer', 'pc', 'tablet', 'app', 'brother', 'sister', 'download', 'device', 'cousin', 'space', 'cant', 'use', 'update']\n",
      "Topic 5 keywords: ['account', 'log', 'password', 'roblox', 'help', 'please', 'work', 'time', 'cant', 'number', 'didnt', 'name', 'day', 'im', 'sign']\n",
      "\n",
      "[모델 2] 토픽 13개:\n",
      "Topic 1 keywords: ['item', 'clothes', 'price', 'anyways', 'r', 'shirt', 'event', 'avatar', 'hair', 'dollar', 'ppl', 'hashtags', 'face', 'buying', 'refund']\n",
      "Topic 2 keywords: ['glitch', 'bug', 'screen', 'move', 'camera', 'fix', 'button', 'game', 'press', 'zoom', 'jump', 'please', 'pls', 'yea', 'click']\n",
      "Topic 3 keywords: ['game', 'people', 'roblox', 'player', 'hacker', 'thing', 'star', 'report', 'fun', 'lot', 'there', 'reason', 'problem', 'scammer', 'alot']\n",
      "Topic 4 keywords: ['update', 'name', 'month', 'space', 'week', 'idea', 'search', 'ty', 'end', 'dream', 'upgrade', 'understand', 'sound', 'soo', 'suggestion']\n",
      "Topic 5 keywords: ['phone', 'system', 'pas', 'storage', 'rule', 'baby', 'toxic', 'level', 'information', 'earn', 'setting', 'mode', 'samsung', 'picture', 'worth']\n",
      "Topic 6 keywords: ['account', 'log', 'password', 'roblox', 'help', 'please', 'time', 'work', 'today', 'sign', 'acc', 'didnt', 'cant', 'l', 'day']\n",
      "Topic 7 keywords: ['game', 'roblox', 'friend', 'thing', 'app', 'dont', 'love', 'people', 'play', 'im', 'guy', 'time', 'thats', 'fun', 'u']\n",
      "Topic 8 keywords: ['word', 'number', 'tag', 'brother', 'tell', 'sooo', 'type', 'man', 'bacon', 'btw', 'support', 'card', 'company', 'gift', 'couple']\n",
      "Topic 9 keywords: ['game', 'play', 'fun', 'roblox', 'friend', 'love', 'lot', 'people', 'download', 'thing', 'time', 'year', 'day', 'app', 'star']\n",
      "Topic 10 keywords: ['game', 'roblox', 'play', 'please', 'problem', 'fix', 'star', 'im', 'pls', 'time', 'work', 'cant', 'dont', 'lag', 'app']\n",
      "Topic 11 keywords: ['computer', 'pc', 'tablet', 'roblox', 'user', 'device', 'use', 'game', 'mobile', 'player', 'play', 'cant', 'studio', 'xbox', 'chromebook']\n",
      "Topic 12 keywords: ['kid', 'pet', 'child', 'house', 'simulator', 'creator', 'adopt', 'car', 'tycoon', 'city', 'meepcity', 'parent', 'lol', 'game', 'adult']\n",
      "Topic 13 keywords: ['robux', 'money', 'game', 'thing', 'buy', 'dont', 'cost', 'get', 'pay', 'stuff', 'bloxburg', 'avatar', 'make', 'way', 'lot']\n"
     ]
    }
   ],
   "source": [
    "# 🔹 모델 1: 토픽 5개\n",
    "topic_keywords_1 = []\n",
    "for i in range(5):\n",
    "    words = lda_model_1.show_topic(i, topn=15)\n",
    "    keywords = [word for word, _ in words]\n",
    "    topic_keywords_1.append(keywords)\n",
    "\n",
    "print(\"[모델 1] 토픽 5개:\")\n",
    "for idx, kw in enumerate(topic_keywords_1):\n",
    "    print(f\"Topic {idx+1} keywords:\", kw)\n",
    "\n",
    "\n",
    "# 🔹 모델 2: 토픽 13개\n",
    "topic_keywords_2 = []\n",
    "for i in range(13):\n",
    "    words = lda_model_2.show_topic(i, topn=15)\n",
    "    keywords = [word for word, _ in words]\n",
    "    topic_keywords_2.append(keywords)\n",
    "\n",
    "print(\"\\n[모델 2] 토픽 13개:\")\n",
    "for idx, kw in enumerate(topic_keywords_2):\n",
    "    print(f\"Topic {idx+1} keywords:\", kw)"
   ]
  },
  {
   "cell_type": "markdown",
   "id": "b57f7a6b",
   "metadata": {},
   "source": [
    "### 최종 LDA"
   ]
  },
  {
   "cell_type": "code",
   "execution_count": 106,
   "id": "aa77cd5f",
   "metadata": {},
   "outputs": [],
   "source": [
    "# 1. 사용자 정의 불용어 리스트\n",
    "custom_stopwords = [\n",
    "    'thing', 'get', 'make', 'lot', 'way', 'dont', 'pls', 'plz', 'please',\n",
    "    'im', \"i'm\", 'u', 'alot', 'sooo', 'yea',\n",
    "    'today', 'day', 'time', 'year', 'month', 'week',\n",
    "    'ppl', 'people',\n",
    "    'game', 'robux', 'roblox'\n",
    "    'cant', 'star', 'thats', 'bye', 'there', 'cool', 'something', 'didnt', 'someone', 'reason', 'play', 'fun', 'problem', 'love', 'lol',\n",
    "    'thx', 'roblox', 'l' \n",
    "]\n",
    "\n",
    "# ✅ acc를 account로 치환\n",
    "texts = [[(\"account\" if word == \"acc\" else word) for word in doc] for doc in texts]"
   ]
  },
  {
   "cell_type": "code",
   "execution_count": 107,
   "id": "7faddc23",
   "metadata": {},
   "outputs": [
    {
     "data": {
      "image/png": "[encoded data removed]",
      "text/plain": [
       "<Figure size 640x480 with 1 Axes>"
      ]
     },
     "metadata": {},
     "output_type": "display_data"
    }
   ],
   "source": [
    "import copy\n",
    "\n",
    "# 2. 기존 dictionary 복사 후 불용어 제거 → dictionary_final\n",
    "dictionary_final = copy.deepcopy(dictionary)\n",
    "stopword_ids = [dictionary_final.token2id[word] for word in custom_stopwords if word in dictionary_final.token2id]\n",
    "dictionary_final.filter_tokens(bad_ids=stopword_ids)\n",
    "dictionary_final.compactify()\n",
    "\n",
    "# 3. corpus_final 재생성 (불용어 제거 후 기준)\n",
    "corpus_final = [dictionary_final.doc2bow(text) for text in texts]\n",
    "\n",
    "# 4. coherence 계산 함수 정의\n",
    "def compute_coherence_values(dictionary, corpus, texts, start, limit, step):\n",
    "    coherence_values = []\n",
    "    model_list = []\n",
    "    \n",
    "    for num_topics in range(start, limit, step):\n",
    "        model = LdaModel(corpus=corpus,\n",
    "                         id2word=dictionary,\n",
    "                         num_topics=num_topics,\n",
    "                         passes=10,\n",
    "                         random_state=42)\n",
    "        model_list.append(model)\n",
    "        coherencemodel = CoherenceModel(model=model, \n",
    "                                        texts=texts, \n",
    "                                        dictionary=dictionary, \n",
    "                                        coherence='c_v')\n",
    "        coherence_values.append(coherencemodel.get_coherence())\n",
    "    \n",
    "    return model_list, coherence_values\n",
    "\n",
    "# 5. 토픽 개수 범위 설정 및 실행\n",
    "start, limit, step = 2, 31, 1\n",
    "model_list, coherence_values = compute_coherence_values(\n",
    "    dictionary=dictionary_final,\n",
    "    corpus=corpus_final,\n",
    "    texts=texts,\n",
    "    start=start,\n",
    "    limit=limit,\n",
    "    step=step\n",
    ")\n",
    "\n",
    "# 6. 시각화\n",
    "x = range(start, limit, step)\n",
    "plt.plot(x, coherence_values)\n",
    "plt.xlabel(\"Num Topics\")\n",
    "plt.ylabel(\"Coherence Score\")\n",
    "plt.title(\"Optimal Number of Topics\")\n",
    "plt.show()"
   ]
  },
  {
   "cell_type": "code",
   "execution_count": 146,
   "id": "ee57dc3f",
   "metadata": {},
   "outputs": [
    {
     "name": "stdout",
     "output_type": "stream",
     "text": [
      "Optimal Model: 7 Topics\n",
      "Topic 1 keywords: ['hacker', 'player', 'report', 'internet', 'scammer', 'daters', 'thank', 'guy', 'online', 'nothing', 'creator', 'yeah', 'rate', 'minecraft', 'work']\n",
      "Topic 2 keywords: ['friend', 'app', 'word', 'life', 'family', 'bloxburg', 'world', 'download', 'number', 'kid', 'everyone', 'playing', 'tag', 'tycoon', 'million']\n",
      "Topic 3 keywords: ['fix', 'bug', 'glitch', 'join', 'screen', 'move', 'camera', 'cant', 'button', 'lag', 'rate', 'try', 'server', 'press', 'kick']\n",
      "Topic 4 keywords: ['account', 'log', 'password', 'fix', 'cant', 'work', 'help', 'let', 'try', 'connection', 'error', 'sign', 'name', 'change', 'phone']\n",
      "Topic 5 keywords: ['money', 'kid', 'buy', 'stuff', 'avatar', 'cost', 'pay', 'child', 'item', 'clothes', 'parent', 'change', 'everything', 'need', 'use']\n",
      "Topic 6 keywords: ['app', 'update', 'download', 'pet', 'wifi', 'load', 'hour', 'space', 'car', 'work', 'hate', 'house', 'store', 'adopt', 'cant']\n",
      "Topic 7 keywords: ['phone', 'cause', 'lag', 'computer', 'pc', 'tablet', 'device', 'work', 'use', 'cant', 'graphic', 'kinda', 'mobile', 'user', 'studio']\n"
     ]
    }
   ],
   "source": [
    "# 7. 최고 coherence 모델 선택 (불용어 제거 반영)\n",
    "optimal_index = coherence_values.index(max(coherence_values))\n",
    "optimal_model = model_list[optimal_index]\n",
    "optimal_num_topics = range(start, limit, step)[optimal_index]\n",
    "\n",
    "# 8. 최적 토픽 수 기준 모델에서 토픽 키워드 추출\n",
    "topic_keywords = []\n",
    "for i in range(7):\n",
    "    words = optimal_model.show_topic(i, topn=15)\n",
    "    keywords = [word for word, _ in words]\n",
    "    topic_keywords.append(keywords)\n",
    "\n",
    "# 9. 출력\n",
    "print(f\"Optimal Model: 7 Topics\")\n",
    "for idx, kw in enumerate(topic_keywords):\n",
    "    print(f\"Topic {idx+1} keywords:\", kw)"
   ]
  },
  {
   "cell_type": "code",
   "execution_count": 109,
   "id": "b8825d10",
   "metadata": {},
   "outputs": [],
   "source": [
    "from gensim.models import Word2Vec\n",
    "\n",
    "# Word2Vec 모델 학습\n",
    "w2v_model = Word2Vec(\n",
    "    sentences=texts,  \n",
    "    vector_size=100,  \n",
    "    window=5,         \n",
    "    min_count=5,      \n",
    "    workers=4,       \n",
    "    sg=1              \n",
    ")"
   ]
  },
  {
   "cell_type": "code",
   "execution_count": 132,
   "id": "614c7702",
   "metadata": {},
   "outputs": [
    {
     "name": "stdout",
     "output_type": "stream",
     "text": [
      "Topic 1 (명사만 필터링한 확장 포함 keywords):\n",
      "['reveiw', 'exploiter', 'maker', 'jenna', 'minecraft', 'downfall', 'odersonline', 'rating', 'ty', 'nothing', 'internet', 'hacker', 'daters', 'deliver', 'player', 'oder', 'rate', 'effort', 'connection', 'dater', 'byebye', 'thank', 'thankyou', 'sombody', 'hehe', 'thats', 'creator', 'punishment', 'router', 'guy', 'peace', 'gta', 'yeah', 'wifi', 'creaters', 'deserves', 'advantage', 'moderator', 'scamers', 'consequence', 'work', 'everythings', 'dose']\n",
      "Topic 2 (명사만 필터링한 확장 포함 keywords):\n",
      "['friendsand', 'tycoon', 'cuss', 'mall', 'bay', 'robloxi', 'curse', 'app', 'superhero', 'explore', 'tag', 'classmate', 'socialize', 'bloxburg', 'bloxberg', 'world', 'wolf', 'dowload', 'patient', 'word', 'bond', 'adresses', 'hastags', 'iv', 'friend', 'relax', 'sentence', 'everybody', 'everyone', 'journey', 'kid', 'life', 'ben', 'teenager', 'simulaters', 'family', 'roblx', 'number']\n",
      "Topic 3 (명사만 필터링한 확장 포함 keywords):\n",
      "['camera', 'swipe', 'reveiw', 'press', 'zoom', 'couldnt', 'screen', 'beg', 'lag', 'botton', 'sever', 'rating', 'bug', 'tap', 'inout', 'glitch', 'button', 'rate', 'repair', 'connect', 'stucks', 'join', 'server', 'severs', 'restarts', 'spike', 'kickes', 'move', 'screenit', 'deserves', 'kick']\n",
      "Topic 4 (명사만 필터링한 확장 포함 keywords):\n",
      "['sign', 'reply', 'sits', 'beg', 'account', 'help', 'gadget', 'error', 'alt', 'internet', 'deliver', 'situation', 'change', 'phone', 'amazingbut', 'tablet', 'repair', 'connection', 'log', 'id17', 'it❤', 'display', 'password', 'fix', 'pasword', 'conection', 'login', 'sends', 'respond', 'saids', 'work', 'lg', 'dose']\n",
      "Topic 5 (명사만 필터링한 확장 포함 keywords):\n",
      "['refund', 'risk', 'male', 'everything', 'use', 'violence', 'thatbut', 'junk', 'buy', 'hassle', 'item', 'roblux', 'avator', 'change', 'parent', 'accessory', 'advise', 'pricey', 'display', 'accesories', 'cost', 'somethings', 'sale', 'money', 'pay', 'kid', 'clothes', 'teenager', 'everythings', 'thing']\n",
      "Topic 6 (명사만 필터링한 확장 포함 keywords):\n",
      "['house', 'reload', 'overlook', 'couldnt', 'bay', 'hate', 'robloxi', 'mb', 'furniture', 'space', 'playstore', 'load', 'internet', 'deliver', 'hatch', 'min', 'homework', 'hour', 'vehicle', 'dowload', 'patient', 'promise', 'storage', 'download', 'neon', 'google', 'bill', 'car', 'router', 'setup', 'bike', 'gigabyte', 'install', 'ride', 'store', 'drive', 'wifi', 'delet', 'signal', 'awhile', 'work', 'roblx']\n",
      "Topic 7 (명사만 필터링한 확장 포함 keywords):\n",
      "['mac', 'render', 'couldnt', 'use', 'window', 'ipad', 'sorta', 'kinda', 'computer', 'lag', 'studio', 'gadget', 'distance', 'hassle', 'device', 'quality', 'phone', 'tablet', 'spec', 'buggy', 'moblie', 'cellphone', 'prefer', 'eh', 'somehow', 'divice', 'ig', 'robloxand', 'spike', 'hold', 'macbook', 'user', 'awhile', 'pc', 'mobiletablet', 'cause', 'work', 'shuts', 'pclaptop', 'dose']\n"
     ]
    },
    {
     "name": "stderr",
     "output_type": "stream",
     "text": [
      "[nltk_data] Downloading package averaged_perceptron_tagger to\n",
      "[nltk_data]     C:\\Users\\USER\\AppData\\Roaming\\nltk_data...\n",
      "[nltk_data]   Package averaged_perceptron_tagger is already up-to-\n",
      "[nltk_data]       date!\n"
     ]
    }
   ],
   "source": [
    "nltk.download('averaged_perceptron_tagger')\n",
    "\n",
    "# 1. 명사만 필터링하는 함수\n",
    "def filter_nouns(word_list):\n",
    "    tagged = pos_tag(word_list)\n",
    "    nouns = [word for word, pos in tagged if pos.startswith('NN')]  # NN, NNS, NNP, NNPS\n",
    "    return nouns\n",
    "\n",
    "# 2. Word2Vec 기반 유사어 확장 함수\n",
    "def expand_keywords_with_word2vec(keywords, model, topn=5):\n",
    "    expanded = set(keywords)\n",
    "    for word in keywords:\n",
    "        if word in model.wv.key_to_index:\n",
    "            similar_words = model.wv.most_similar(word, topn=topn)\n",
    "            for sim_word, _ in similar_words:\n",
    "                expanded.add(sim_word)\n",
    "    return list(expanded)\n",
    "\n",
    "# 3. 각 토픽별로 확장 + 명사 필터링\n",
    "expanded_topic_keywords = []\n",
    "for topic in topic_keywords:\n",
    "    expanded = expand_keywords_with_word2vec(topic, w2v_model, topn=3)\n",
    "    nouns_only = filter_nouns(expanded)\n",
    "    expanded_topic_keywords.append(nouns_only)\n",
    "\n",
    "# 4. 결과 출력\n",
    "for idx, kw in enumerate(expanded_topic_keywords):\n",
    "    print(f\"Topic {idx+1} (명사만 필터링한 확장 포함 keywords):\")\n",
    "    print(kw)"
   ]
  },
  {
   "cell_type": "code",
   "execution_count": null,
   "id": "743c6f29",
   "metadata": {},
   "outputs": [
    {
     "name": "stdout",
     "output_type": "stream",
     "text": [
      "Topic 1 (불용어 제거 후):\n",
      "['exploiter', 'maker', 'minecraft', 'downfall', 'internet', 'hacker', 'daters', 'connection', 'dater', 'creator', 'creaters', 'moderator', 'scamers', 'work']\n",
      "Topic 2 (불용어 제거 후):\n",
      "['friendsand', 'tycoon', 'cuss', 'mall', 'curse', 'superhero', 'explore', 'tag', 'classmate', 'socialize', 'bloxburg', 'bloxberg', 'world', 'wolf', 'dowload', 'patient', 'bond', 'adresses', 'hastags', 'friend', 'relax', 'journey', 'kid', 'ben', 'teenager', 'simulaters', 'family']\n",
      "Topic 3 (불용어 제거 후):\n",
      "['camera', 'swipe', 'press', 'zoom', 'screen', 'beg', 'lag', 'botton', 'sever', 'bug', 'tap', 'inout', 'glitch', 'button', 'repair', 'connect', 'stucks', 'join', 'server', 'severs', 'restarts', 'spike', 'kickes', 'move', 'kick']\n",
      "Topic 4 (불용어 제거 후):\n",
      "['reply', 'beg', 'account', 'help', 'gadget', 'error', 'internet', 'situation', 'change', 'phone', 'tablet', 'repair', 'connection', 'display', 'password', 'fix', 'pasword', 'conection', 'login', 'sends', 'saids', 'work']\n",
      "Topic 5 (불용어 제거 후):\n",
      "['refund', 'risk', 'male', 'use', 'violence', 'thatbut', 'junk', 'buy', 'hassle', 'item', 'avator', 'change', 'parent', 'accessory', 'advise', 'pricey', 'display', 'accesories', 'cost', 'sale', 'money', 'pay', 'kid', 'clothes', 'teenager']\n",
      "Topic 6 (불용어 제거 후):\n",
      "['house', 'reload', 'overlook', 'hate', 'furniture', 'space', 'playstore', 'load', 'internet', 'hatch', 'homework', 'hour', 'vehicle', 'dowload', 'patient', 'promise', 'storage', 'download', 'neon', 'google', 'bill', 'car', 'setup', 'bike', 'gigabyte', 'install', 'ride', 'store', 'drive', 'delet', 'signal', 'work']\n",
      "Topic 7 (불용어 제거 후):\n",
      "['mac', 'render', 'use', 'window', 'ipad', 'sorta', 'kinda', 'computer', 'lag', 'studio', 'gadget', 'distance', 'hassle', 'device', 'quality', 'phone', 'tablet', 'buggy', 'moblie', 'cellphone', 'prefer', 'somehow', 'divice', 'robloxand', 'spike', 'hold', 'macbook', 'user', 'pc', 'mobiletablet', 'cause', 'work', 'shuts', 'pclaptop']\n"
     ]
    }
   ],
   "source": [
    "custom_stopwords2 = [\n",
    "    'fixe', 'thisbut', 'amazingbut', 'problemthe', 'editit', 'delivers', 'gamesi', 'gamesits',\n",
    "    'friendsi', 'funyou', 'fivestar', 'leaf', 'thr', 'app', 'appi', 'idc',\n",
    "    '🥰', '♡', '⭐', 'star', 'playi', 'ware', 'verity', 'reson', 'chang', 'didnt',\n",
    "    'wasnt', 'couldnt', 'agin', 'ir', 'dosnt', 'respond',\n",
    "    'thing', 'something', 'ty', 'nothing', 'thank', 'thankyou', 'hehe', 'yeah', 'byebye', 'peace',\n",
    "    'guy', 'wifi', 'router', 'dose', 'everythings', 'deserves',\n",
    "    'iv', 'number', 'everybody', 'everyone', 'life', 'word', 'sentence',\n",
    "    'roblux', 'roblx', 'everything', 'somethings',\n",
    "    'fixe', 'thisbut', 'amazingbut', 'problemthe', 'editit', 'delivers', 'gamesi', 'gamesits',\n",
    "    'friendsi', 'funyou', 'fivestar', 'leaf', 'thr', 'app', 'appi', 'idc',\n",
    "    '🥰', '♡', '⭐', 'star', 'playi', 'ware', 'verity', 'reson', 'chang', 'didnt',\n",
    "    'wasnt', 'couldnt', 'agin', 'ir', 'dosnt', 'respond', 'deliver', 'log',\n",
    "    'sign', 'thing', 'something', 'id17', 'it❤', 'reveiw', 'rating', 'rate', 'sombody', 'thats', 'robloxi', 'screenit', 'lg', 'gta', 'sits', 'alt', 'mb', 'bay', 'jenna', \n",
    "    'odersonline', 'effort', 'player', 'punishment', 'consequence', 'advantage', 'oder', 'ig', 'eh', 'min', 'spec' ,'awhile'\n",
    "]\n",
    "\n",
    "# 불용어 제거 함수\n",
    "def remove_custom_stopwords2(keywords, stopwords):\n",
    "    return [word for word in keywords if word not in stopwords]\n",
    "\n",
    "# 적용\n",
    "filtered_topic_keywords = []\n",
    "for topic in expanded_topic_keywords:\n",
    "    filtered = remove_custom_stopwords2(topic, custom_stopwords2)\n",
    "    filtered_topic_keywords.append(filtered)\n",
    "\n",
    "# 결과 출력\n",
    "for idx, kw in enumerate(filtered_topic_keywords):\n",
    "    print(f\"Topic {idx+1} (불용어 제거 후):\")\n",
    "    print(kw)\n"
   ]
  },
  {
   "cell_type": "code",
   "execution_count": 143,
   "id": "ed4e9d9f",
   "metadata": {},
   "outputs": [
    {
     "name": "stderr",
     "output_type": "stream",
     "text": [
      "[nltk_data] Downloading package vader_lexicon to\n",
      "[nltk_data]     C:\\Users\\USER\\AppData\\Roaming\\nltk_data...\n",
      "[nltk_data]   Package vader_lexicon is already up-to-date!\n"
     ]
    }
   ],
   "source": [
    "# VADER 다운로드\n",
    "nltk.download('vader_lexicon')\n",
    "from nltk.sentiment.vader import SentimentIntensityAnalyzer\n",
    "analyzer = SentimentIntensityAnalyzer()\n",
    "\n",
    "# 리뷰 데이터프레임: df\n",
    "# - df['content']: 리뷰 텍스트\n",
    "# - df['score']: 1~5 평점\n",
    "# - expanded_topic_keywords_filtered: 불용어 제거 후 topic1~9 키워드 리스트\n",
    "\n",
    "review_feature_scores = []\n",
    "\n",
    "for texts in df['content']:\n",
    "    row_scores = []\n",
    "    for keywords in filtered_topic_keywords:  # topic1~9\n",
    "        if any(kw in texts for kw in keywords):\n",
    "            # 해당 토픽 키워드 중 하나라도 리뷰에 있으면 감성 점수 측정\n",
    "            score = analyzer.polarity_scores(texts)['compound']\n",
    "        else:\n",
    "            score = 0.0\n",
    "        row_scores.append(round(score, 2))  # 소수점 2자리\n",
    "    review_feature_scores.append(row_scores)\n",
    "\n",
    "# 결과 DataFrame으로 저장\n",
    "features_df = pd.DataFrame(review_feature_scores, columns=[f'f{i+1}' for i in range(7)])\n",
    "features_df.insert(0, \"No.\", range(1, len(features_df) + 1))  # No. 추가\n",
    "\n",
    "# 평점 이진화 (score ≥ 4 → 1, else 0)\n",
    "features_df['Overall Rating'] = df['score'].apply(lambda x: 1 if x >= 4 else 0)"
   ]
  },
  {
   "cell_type": "code",
   "execution_count": 144,
   "id": "70fab3fe",
   "metadata": {},
   "outputs": [
    {
     "data": {
      "text/html": [
       "<div>\n",
       "<style scoped>\n",
       "    .dataframe tbody tr th:only-of-type {\n",
       "        vertical-align: middle;\n",
       "    }\n",
       "\n",
       "    .dataframe tbody tr th {\n",
       "        vertical-align: top;\n",
       "    }\n",
       "\n",
       "    .dataframe thead th {\n",
       "        text-align: right;\n",
       "    }\n",
       "</style>\n",
       "<table border=\"1\" class=\"dataframe\">\n",
       "  <thead>\n",
       "    <tr style=\"text-align: right;\">\n",
       "      <th></th>\n",
       "      <th>No.</th>\n",
       "      <th>f1</th>\n",
       "      <th>f2</th>\n",
       "      <th>f3</th>\n",
       "      <th>f4</th>\n",
       "      <th>f5</th>\n",
       "      <th>f6</th>\n",
       "      <th>f7</th>\n",
       "      <th>Overall Rating</th>\n",
       "    </tr>\n",
       "  </thead>\n",
       "  <tbody>\n",
       "    <tr>\n",
       "      <th>0</th>\n",
       "      <td>1</td>\n",
       "      <td>-0.51</td>\n",
       "      <td>0.00</td>\n",
       "      <td>-0.51</td>\n",
       "      <td>0.00</td>\n",
       "      <td>0.00</td>\n",
       "      <td>0.00</td>\n",
       "      <td>-0.51</td>\n",
       "      <td>1</td>\n",
       "    </tr>\n",
       "    <tr>\n",
       "      <th>1</th>\n",
       "      <td>2</td>\n",
       "      <td>0.00</td>\n",
       "      <td>0.73</td>\n",
       "      <td>0.73</td>\n",
       "      <td>0.73</td>\n",
       "      <td>0.73</td>\n",
       "      <td>0.00</td>\n",
       "      <td>0.73</td>\n",
       "      <td>1</td>\n",
       "    </tr>\n",
       "    <tr>\n",
       "      <th>2</th>\n",
       "      <td>3</td>\n",
       "      <td>0.00</td>\n",
       "      <td>0.00</td>\n",
       "      <td>-0.45</td>\n",
       "      <td>-0.45</td>\n",
       "      <td>-0.45</td>\n",
       "      <td>-0.45</td>\n",
       "      <td>-0.45</td>\n",
       "      <td>1</td>\n",
       "    </tr>\n",
       "    <tr>\n",
       "      <th>3</th>\n",
       "      <td>4</td>\n",
       "      <td>0.32</td>\n",
       "      <td>0.00</td>\n",
       "      <td>0.00</td>\n",
       "      <td>0.32</td>\n",
       "      <td>0.00</td>\n",
       "      <td>0.32</td>\n",
       "      <td>0.32</td>\n",
       "      <td>0</td>\n",
       "    </tr>\n",
       "    <tr>\n",
       "      <th>4</th>\n",
       "      <td>5</td>\n",
       "      <td>0.00</td>\n",
       "      <td>-0.02</td>\n",
       "      <td>-0.02</td>\n",
       "      <td>-0.02</td>\n",
       "      <td>0.00</td>\n",
       "      <td>0.00</td>\n",
       "      <td>-0.02</td>\n",
       "      <td>0</td>\n",
       "    </tr>\n",
       "  </tbody>\n",
       "</table>\n",
       "</div>"
      ],
      "text/plain": [
       "   No.    f1    f2    f3    f4    f5    f6    f7  Overall Rating\n",
       "0    1 -0.51  0.00 -0.51  0.00  0.00  0.00 -0.51               1\n",
       "1    2  0.00  0.73  0.73  0.73  0.73  0.00  0.73               1\n",
       "2    3  0.00  0.00 -0.45 -0.45 -0.45 -0.45 -0.45               1\n",
       "3    4  0.32  0.00  0.00  0.32  0.00  0.32  0.32               0\n",
       "4    5  0.00 -0.02 -0.02 -0.02  0.00  0.00 -0.02               0"
      ]
     },
     "execution_count": 144,
     "metadata": {},
     "output_type": "execute_result"
    }
   ],
   "source": [
    "features_df.head()"
   ]
  },
  {
   "cell_type": "code",
   "execution_count": 145,
   "id": "aa43a76e",
   "metadata": {},
   "outputs": [
    {
     "name": "stdout",
     "output_type": "stream",
     "text": [
      "Optimization terminated successfully.\n",
      "         Current function value: 0.459946\n",
      "         Iterations 7\n",
      "                           Logit Regression Results                           \n",
      "==============================================================================\n",
      "Dep. Variable:         Overall Rating   No. Observations:               235755\n",
      "Model:                          Logit   Df Residuals:                   235747\n",
      "Method:                           MLE   Df Model:                            7\n",
      "Date:                Thu, 17 Jul 2025   Pseudo R-squ.:                 0.06885\n",
      "Time:                        14:31:16   Log-Likelihood:            -1.0843e+05\n",
      "converged:                       True   LL-Null:                   -1.1645e+05\n",
      "Covariance Type:            nonrobust   LLR p-value:                     0.000\n",
      "==============================================================================\n",
      "                 coef    std err          z      P>|z|      [0.025      0.975]\n",
      "------------------------------------------------------------------------------\n",
      "const          1.0587      0.006    182.180      0.000       1.047       1.070\n",
      "f1            -0.1328      0.026     -5.088      0.000      -0.184      -0.082\n",
      "f2             1.3972      0.018     75.813      0.000       1.361       1.433\n",
      "f3             0.2029      0.017     11.813      0.000       0.169       0.237\n",
      "f4            -0.1867      0.019    -10.067      0.000      -0.223      -0.150\n",
      "f5             0.4606      0.019     24.855      0.000       0.424       0.497\n",
      "f6             0.4404      0.020     22.274      0.000       0.402       0.479\n",
      "f7             0.3264      0.020     16.681      0.000       0.288       0.365\n",
      "==============================================================================\n"
     ]
    }
   ],
   "source": [
    "import statsmodels.api as sm\n",
    "\n",
    "# 입력 변수: f1 ~ f9 (또는 실제 사용한 feature 수에 맞게 조정)\n",
    "X = features_df[[f\"f{i+1}\" for i in range(7)]]\n",
    "\n",
    "# 절편항 추가\n",
    "X = sm.add_constant(X)\n",
    "\n",
    "# 출력 변수: Overall Rating\n",
    "y = features_df[\"Overall Rating\"]\n",
    "\n",
    "# 로지스틱 회귀 적합\n",
    "model = sm.Logit(y, X)\n",
    "result = model.fit()\n",
    "\n",
    "# 요약 출력\n",
    "print(result.summary())"
   ]
  },
  {
   "cell_type": "code",
   "execution_count": 155,
   "id": "882f10e5",
   "metadata": {},
   "outputs": [
    {
     "name": "stdout",
     "output_type": "stream",
     "text": [
      "Optimization terminated successfully.\n",
      "         Current function value: 0.536361\n",
      "         Iterations 7\n",
      "Test Accuracy: 0.7935780789378805\n"
     ]
    }
   ],
   "source": [
    "from sklearn.model_selection import train_test_split\n",
    "from sklearn.metrics import accuracy_score  # ✅ 추가해야 정확도 계산 가능\n",
    "\n",
    "# 1. 데이터 분할\n",
    "X_train, X_test, y_train, y_test = train_test_split(X, y, test_size=0.2, random_state=42)\n",
    "\n",
    "# 2. 모델 학습\n",
    "model = sm.Logit(y_train, X_train)\n",
    "result = model.fit()\n",
    "\n",
    "# 3. 예측 및 정확도\n",
    "y_pred_test = (result.predict(X_test) >= 0.5).astype(int)\n",
    "print(\"Test Accuracy:\", accuracy_score(y_test, y_pred_test))\n"
   ]
  },
  {
   "cell_type": "code",
   "execution_count": null,
   "id": "385b4f5c",
   "metadata": {},
   "outputs": [],
   "source": []
  }
 ],
 "metadata": {
  "kernelspec": {
   "display_name": "metaverse_env",
   "language": "python",
   "name": "python3"
  },
  "language_info": {
   "codemirror_mode": {
    "name": "ipython",
    "version": 3
   },
   "file_extension": ".py",
   "mimetype": "text/x-python",
   "name": "python",
   "nbconvert_exporter": "python",
   "pygments_lexer": "ipython3",
   "version": "3.10.18"
  }
 },
 "nbformat": 4,
 "nbformat_minor": 5
}
