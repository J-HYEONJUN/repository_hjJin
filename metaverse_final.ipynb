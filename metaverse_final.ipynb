{
 "cells": [
  {
   "cell_type": "code",
   "execution_count": 3,
   "id": "cb9a8a08",
   "metadata": {},
   "outputs": [],
   "source": [
    "import pandas as pd\n",
    "import re\n",
    "import string\n",
    "import nltk\n",
    "import ssl\n",
    "from nltk import word_tokenize, pos_tag\n",
    "from nltk.corpus import stopwords\n",
    "from nltk.stem import WordNetLemmatizer"
   ]
  },
  {
   "cell_type": "code",
   "execution_count": 6,
   "id": "b653b91d",
   "metadata": {},
   "outputs": [
    {
     "name": "stdout",
     "output_type": "stream",
     "text": [
      "                               reviewId             userName  \\\n",
      "0  8b33921b-b971-49ad-9c43-5f46535d8481       Rhylenn Taylor   \n",
      "1  ddfa4628-ecd7-403d-b4f8-976655986017      Addalaide Clark   \n",
      "2  8d9d55dd-df25-4329-af58-2178007c5434  jennavie kajornklin   \n",
      "3  493e1a17-3af8-4e60-b5d2-a1f9f1056355              Josilyn   \n",
      "4  4ac6c4f5-c019-46f0-b829-8e98d19a93ea                  Eli   \n",
      "\n",
      "                                             content  score  thumbsUpCount  \\\n",
      "0  Perfect App! Though, There are a few problems ...      5            609   \n",
      "1  I love this game. I have so much fun playing w...      4           1384   \n",
      "2  Roblox is my favorite game. But when I play on...      4            576   \n",
      "3  This game is great, amazing almost. But my sit...      1            166   \n",
      "4  been glitching and completely freezing in the ...      1            143   \n",
      "\n",
      "  reviewCreatedVersion                  at appVersion  \n",
      "0            2.578.564 2023-06-24 03:07:01  2.578.564  \n",
      "1            2.578.564 2023-06-25 16:16:14  2.578.564  \n",
      "2            2.578.564 2023-06-21 12:12:21  2.578.564  \n",
      "3            2.578.564 2023-06-24 16:21:53  2.578.564  \n",
      "4            2.578.564 2023-06-24 02:22:29  2.578.564  \n"
     ]
    }
   ],
   "source": [
    "# !pip install openpyxl 해야함\n",
    "\n",
    "file_path = 'C:/Users/USER/OneDrive - 금오공과대학교/02_연구실/02_김민준교수님/2_data\\ROBLOX_DATA_PS.xlsx'\n",
    "\n",
    "df = pd.read_excel(file_path, engine='openpyxl')\n",
    "\n",
    "print(df.head())"
   ]
  },
  {
   "cell_type": "code",
   "execution_count": 7,
   "id": "d4e3239a",
   "metadata": {},
   "outputs": [
    {
     "name": "stdout",
     "output_type": "stream",
     "text": [
      "중복된 행 수: 0\n",
      "중복된 행이 없습니다.\n"
     ]
    }
   ],
   "source": [
    "duplicates = df[df.duplicated(subset=['reviewId', 'at', 'content', 'score'], keep=False)]\n",
    "print(f\"중복된 행 수: {len(duplicates)}\")\n",
    "\n",
    "if not duplicates.empty:\n",
    "    df = df.drop_duplicates(subset=['reviewId', 'at', 'content', 'score'], keep='first')\n",
    "    print(\"중복된 행을 제거했습니다.\")\n",
    "else:\n",
    "    print(\"중복된 행이 없습니다.\")"
   ]
  },
  {
   "cell_type": "code",
   "execution_count": 8,
   "id": "6df585c8",
   "metadata": {},
   "outputs": [
    {
     "name": "stdout",
     "output_type": "stream",
     "text": [
      "showing info https://raw.githubusercontent.com/nltk/nltk_data/gh-pages/index.xml\n"
     ]
    },
    {
     "name": "stderr",
     "output_type": "stream",
     "text": [
      "[nltk_data] Downloading package punkt to\n",
      "[nltk_data]     C:\\Users\\USER\\AppData\\Roaming\\nltk_data...\n",
      "[nltk_data]   Package punkt is already up-to-date!\n",
      "[nltk_data] Downloading package stopwords to\n",
      "[nltk_data]     C:\\Users\\USER\\AppData\\Roaming\\nltk_data...\n",
      "[nltk_data]   Package stopwords is already up-to-date!\n",
      "[nltk_data] Downloading package wordnet to\n",
      "[nltk_data]     C:\\Users\\USER\\AppData\\Roaming\\nltk_data...\n",
      "[nltk_data]   Package wordnet is already up-to-date!\n",
      "[nltk_data] Downloading package averaged_perceptron_tagger to\n",
      "[nltk_data]     C:\\Users\\USER\\AppData\\Roaming\\nltk_data...\n",
      "[nltk_data]   Package averaged_perceptron_tagger is already up-to-\n",
      "[nltk_data]       date!\n"
     ]
    },
    {
     "data": {
      "text/plain": [
       "True"
      ]
     },
     "execution_count": 8,
     "metadata": {},
     "output_type": "execute_result"
    }
   ],
   "source": [
    "# NLTK 다운로드 설정\n",
    "try:\n",
    "    _create_unverified_https_context = ssl._create_unverified_context\n",
    "except AttributeError:\n",
    "    pass\n",
    "else:\n",
    "    ssl._create_default_https_context = _create_unverified_https_context\n",
    "\n",
    "nltk.download()\n",
    "\n",
    "nltk.download('punkt')\n",
    "nltk.download('stopwords')\n",
    "nltk.download('wordnet')\n",
    "nltk.download('averaged_perceptron_tagger')"
   ]
  },
  {
   "cell_type": "markdown",
   "id": "c9623180",
   "metadata": {},
   "source": [
    "이모지 제거, 품사 태깅, 소문자, 마침표, 불용어, 표제어 추출 함수"
   ]
  },
  {
   "cell_type": "code",
   "execution_count": 9,
   "id": "537faa0a",
   "metadata": {},
   "outputs": [],
   "source": [
    "def remove_emoji(text):\n",
    "    emoji_pattern = re.compile(\"[\"\n",
    "        u\"\\U0001F600-\\U0001F64F\"\n",
    "        u\"\\U0001F300-\\U0001F5FF\"\n",
    "        u\"\\U0001F680-\\U0001F6FF\"\n",
    "        u\"\\U0001F1E0-\\U0001F1FF\"\n",
    "        \"]+\", flags=re.UNICODE)\n",
    "    return emoji_pattern.sub(r'', text)\n",
    "\n",
    "def get_wordnet_pos(tag):\n",
    "    if tag.startswith('J'): # 형용사\n",
    "        return 'a'\n",
    "    elif tag.startswith('V'): \n",
    "        return 'v'\n",
    "    elif tag.startswith('N'):\n",
    "        return 'n'\n",
    "    elif tag.startswith('R'): # 부사\n",
    "        return 'r'\n",
    "    else:\n",
    "        return 'n'\n",
    "\n",
    "lemmatizer = WordNetLemmatizer()\n",
    "stop_words = set(stopwords.words('english'))\n",
    "\n",
    "def preprocess_text(text):\n",
    "    if not isinstance(text, str):\n",
    "        return []\n",
    "    text = text.lower()\n",
    "    text = remove_emoji(text)\n",
    "    text = text.translate(str.maketrans('', '', string.punctuation)) # 구두점 제거\n",
    "    tokens = word_tokenize(text)\n",
    "    tokens = [word for word in tokens if word not in stop_words]\n",
    "    tagged_tokens = pos_tag(tokens)\n",
    "    lemmatized = [lemmatizer.lemmatize(word, get_wordnet_pos(tag)) for word, tag in tagged_tokens]\n",
    "    return lemmatized"
   ]
  },
  {
   "cell_type": "code",
   "execution_count": null,
   "id": "b94c58c4",
   "metadata": {},
   "outputs": [
    {
     "name": "stdout",
     "output_type": "stream",
     "text": [
      "                               reviewId             userName  \\\n",
      "0  8b33921b-b971-49ad-9c43-5f46535d8481       Rhylenn Taylor   \n",
      "1  ddfa4628-ecd7-403d-b4f8-976655986017      Addalaide Clark   \n",
      "2  8d9d55dd-df25-4329-af58-2178007c5434  jennavie kajornklin   \n",
      "3  493e1a17-3af8-4e60-b5d2-a1f9f1056355              Josilyn   \n",
      "4  4ac6c4f5-c019-46f0-b829-8e98d19a93ea                  Eli   \n",
      "\n",
      "                                             content  score  thumbsUpCount  \\\n",
      "0  Perfect App! Though, There are a few problems ...      5            609   \n",
      "1  I love this game. I have so much fun playing w...      4           1384   \n",
      "2  Roblox is my favorite game. But when I play on...      4            576   \n",
      "3  This game is great, amazing almost. But my sit...      1            166   \n",
      "4  been glitching and completely freezing in the ...      1            143   \n",
      "\n",
      "  reviewCreatedVersion                  at appVersion  \\\n",
      "0            2.578.564 2023-06-24 03:07:01  2.578.564   \n",
      "1            2.578.564 2023-06-25 16:16:14  2.578.564   \n",
      "2            2.578.564 2023-06-21 12:12:21  2.578.564   \n",
      "3            2.578.564 2023-06-24 16:21:53  2.578.564   \n",
      "4            2.578.564 2023-06-24 02:22:29  2.578.564   \n",
      "\n",
      "                                              tokens  token_count  \n",
      "0  [perfect, app, though, problem, sometimes, ill...           37  \n",
      "1  [love, game, much, fun, play, friend, family, ...           47  \n",
      "2  [roblox, favorite, game, play, chromebook, awf...           44  \n",
      "3  [game, great, amazing, almost, situation, horr...           36  \n",
      "4  [glitching, completely, freeze, middle, game, ...           29  \n"
     ]
    }
   ],
   "source": [
    "# 토큰화, 토큰화 후 10 토큰 미만 문장 제거\n",
    "df['tokens'] = df['content'].apply(preprocess_text)\n",
    "df['token_count'] = df['tokens'].apply(len)\n",
    "df_filtered = df[df['token_count'] >= 10].copy()\n",
    "\n",
    "print(df_filtered.head())"
   ]
  },
  {
   "cell_type": "markdown",
   "id": "29f72eec",
   "metadata": {},
   "source": [
    "gensim 설치 안될때  \n",
    "import sys  \n",
    "print(sys.executable)"
   ]
  },
  {
   "cell_type": "code",
   "execution_count": null,
   "id": "7884d2e5",
   "metadata": {},
   "outputs": [],
   "source": [
    "# LDA\n",
    "# conda에서 설치, conda install -c conda-forge gensim\n",
    "import gensim\n",
    "from gensim import corpora\n",
    "from gensim.models import LdaModel\n",
    "\n",
    "texts = df_filtered['tokens'].tolist() # 각 문장을 리스트 형태의 리스트로 추출\n",
    "dictionary = corpora.Dictionary(texts)\n",
    "corpus = [dictionary.doc2bow(text) for text in texts] # bag of word 형식으로 변환\n"
   ]
  },
  {
   "cell_type": "code",
   "execution_count": null,
   "id": "456cf8e5",
   "metadata": {},
   "outputs": [
    {
     "data": {
      "image/png": "[encoded data removed]",
      "text/plain": [
       "<Figure size 1200x600 with 1 Axes>"
      ]
     },
     "metadata": {},
     "output_type": "display_data"
    }
   ],
   "source": [
    "import matplotlib.pyplot as plt\n",
    "from collections import Counter\n",
    "\n",
    "# 모든 토큰을 하나의 리스트로 합치기\n",
    "all_tokens = [token for tokens in df_filtered['tokens'] for token in tokens]\n",
    "\n",
    "# 토큰 빈도수 계산\n",
    "token_counts = Counter(all_tokens)\n",
    "\n",
    "# 상위 30개 토큰 추출\n",
    "most_common = token_counts.most_common(30)\n",
    "words, counts = zip(*most_common)\n",
    "\n",
    "# 시각화\n",
    "plt.figure(figsize=(12, 6))\n",
    "plt.bar(words, counts)\n",
    "plt.xticks(rotation=45)\n",
    "plt.title(\"Top 20 Token Frequencies\")\n",
    "plt.xlabel(\"Token\")\n",
    "plt.ylabel(\"Frequency\")\n",
    "plt.tight_layout()\n",
    "plt.show()\n"
   ]
  },
  {
   "cell_type": "code",
   "execution_count": 12,
   "id": "e7ea149c",
   "metadata": {},
   "outputs": [
    {
     "ename": "KeyboardInterrupt",
     "evalue": "",
     "output_type": "error",
     "traceback": [
      "\u001b[1;31m---------------------------------------------------------------------------\u001b[0m",
      "\u001b[1;31mKeyboardInterrupt\u001b[0m                         Traceback (most recent call last)",
      "Cell \u001b[1;32mIn[12], line 1\u001b[0m\n\u001b[1;32m----> 1\u001b[0m lda_model \u001b[38;5;241m=\u001b[39m \u001b[43mLdaModel\u001b[49m\u001b[43m(\u001b[49m\u001b[43mcorpus\u001b[49m\u001b[38;5;241;43m=\u001b[39;49m\u001b[43mcorpus\u001b[49m\u001b[43m,\u001b[49m\n\u001b[0;32m      2\u001b[0m \u001b[43m                     \u001b[49m\u001b[43mid2word\u001b[49m\u001b[38;5;241;43m=\u001b[39;49m\u001b[43mdictionary\u001b[49m\u001b[43m,\u001b[49m\n\u001b[0;32m      3\u001b[0m \u001b[43m                     \u001b[49m\u001b[43mnum_topics\u001b[49m\u001b[38;5;241;43m=\u001b[39;49m\u001b[38;5;241;43m9\u001b[39;49m\u001b[43m,\u001b[49m\n\u001b[0;32m      4\u001b[0m \u001b[43m                     \u001b[49m\u001b[43mpasses\u001b[49m\u001b[38;5;241;43m=\u001b[39;49m\u001b[38;5;241;43m10\u001b[39;49m\u001b[43m,\u001b[49m\n\u001b[0;32m      5\u001b[0m \u001b[43m                     \u001b[49m\u001b[43mrandom_state\u001b[49m\u001b[38;5;241;43m=\u001b[39;49m\u001b[38;5;241;43m42\u001b[39;49m\u001b[43m)\u001b[49m\n",
      "File \u001b[1;32mc:\\Users\\USER\\anaconda3\\envs\\metaverse_env\\lib\\site-packages\\gensim\\models\\ldamodel.py:521\u001b[0m, in \u001b[0;36mLdaModel.__init__\u001b[1;34m(self, corpus, num_topics, id2word, distributed, chunksize, passes, update_every, alpha, eta, decay, offset, eval_every, iterations, gamma_threshold, minimum_probability, random_state, ns_conf, minimum_phi_value, per_word_topics, callbacks, dtype)\u001b[0m\n\u001b[0;32m    519\u001b[0m use_numpy \u001b[38;5;241m=\u001b[39m \u001b[38;5;28mself\u001b[39m\u001b[38;5;241m.\u001b[39mdispatcher \u001b[38;5;129;01mis\u001b[39;00m \u001b[38;5;129;01mnot\u001b[39;00m \u001b[38;5;28;01mNone\u001b[39;00m\n\u001b[0;32m    520\u001b[0m start \u001b[38;5;241m=\u001b[39m time\u001b[38;5;241m.\u001b[39mtime()\n\u001b[1;32m--> 521\u001b[0m \u001b[38;5;28;43mself\u001b[39;49m\u001b[38;5;241;43m.\u001b[39;49m\u001b[43mupdate\u001b[49m\u001b[43m(\u001b[49m\u001b[43mcorpus\u001b[49m\u001b[43m,\u001b[49m\u001b[43m \u001b[49m\u001b[43mchunks_as_numpy\u001b[49m\u001b[38;5;241;43m=\u001b[39;49m\u001b[43muse_numpy\u001b[49m\u001b[43m)\u001b[49m\n\u001b[0;32m    522\u001b[0m \u001b[38;5;28mself\u001b[39m\u001b[38;5;241m.\u001b[39madd_lifecycle_event(\n\u001b[0;32m    523\u001b[0m     \u001b[38;5;124m\"\u001b[39m\u001b[38;5;124mcreated\u001b[39m\u001b[38;5;124m\"\u001b[39m,\n\u001b[0;32m    524\u001b[0m     msg\u001b[38;5;241m=\u001b[39m\u001b[38;5;124mf\u001b[39m\u001b[38;5;124m\"\u001b[39m\u001b[38;5;124mtrained \u001b[39m\u001b[38;5;132;01m{\u001b[39;00m\u001b[38;5;28mself\u001b[39m\u001b[38;5;132;01m}\u001b[39;00m\u001b[38;5;124m in \u001b[39m\u001b[38;5;132;01m{\u001b[39;00mtime\u001b[38;5;241m.\u001b[39mtime()\u001b[38;5;250m \u001b[39m\u001b[38;5;241m-\u001b[39m\u001b[38;5;250m \u001b[39mstart\u001b[38;5;132;01m:\u001b[39;00m\u001b[38;5;124m.2f\u001b[39m\u001b[38;5;132;01m}\u001b[39;00m\u001b[38;5;124ms\u001b[39m\u001b[38;5;124m\"\u001b[39m,\n\u001b[0;32m    525\u001b[0m )\n",
      "File \u001b[1;32mc:\\Users\\USER\\anaconda3\\envs\\metaverse_env\\lib\\site-packages\\gensim\\models\\ldamodel.py:1020\u001b[0m, in \u001b[0;36mLdaModel.update\u001b[1;34m(self, corpus, chunksize, decay, offset, passes, update_every, eval_every, iterations, gamma_threshold, chunks_as_numpy)\u001b[0m\n\u001b[0;32m   1018\u001b[0m     logger\u001b[38;5;241m.\u001b[39minfo(\u001b[38;5;124m\"\u001b[39m\u001b[38;5;124mreached the end of input; now waiting for all remaining jobs to finish\u001b[39m\u001b[38;5;124m\"\u001b[39m)\n\u001b[0;32m   1019\u001b[0m     other \u001b[38;5;241m=\u001b[39m \u001b[38;5;28mself\u001b[39m\u001b[38;5;241m.\u001b[39mdispatcher\u001b[38;5;241m.\u001b[39mgetstate()\n\u001b[1;32m-> 1020\u001b[0m \u001b[38;5;28;43mself\u001b[39;49m\u001b[38;5;241;43m.\u001b[39;49m\u001b[43mdo_mstep\u001b[49m\u001b[43m(\u001b[49m\u001b[43mrho\u001b[49m\u001b[43m(\u001b[49m\u001b[43m)\u001b[49m\u001b[43m,\u001b[49m\u001b[43m \u001b[49m\u001b[43mother\u001b[49m\u001b[43m,\u001b[49m\u001b[43m \u001b[49m\u001b[43mpass_\u001b[49m\u001b[43m \u001b[49m\u001b[38;5;241;43m>\u001b[39;49m\u001b[43m \u001b[49m\u001b[38;5;241;43m0\u001b[39;49m\u001b[43m)\u001b[49m\n\u001b[0;32m   1021\u001b[0m \u001b[38;5;28;01mdel\u001b[39;00m other  \u001b[38;5;66;03m# frees up memory\u001b[39;00m\n\u001b[0;32m   1023\u001b[0m \u001b[38;5;28;01mif\u001b[39;00m \u001b[38;5;28mself\u001b[39m\u001b[38;5;241m.\u001b[39mdispatcher:\n",
      "File \u001b[1;32mc:\\Users\\USER\\anaconda3\\envs\\metaverse_env\\lib\\site-packages\\gensim\\models\\ldamodel.py:1069\u001b[0m, in \u001b[0;36mLdaModel.do_mstep\u001b[1;34m(self, rho, other, extra_pass)\u001b[0m\n\u001b[0;32m   1066\u001b[0m previous_Elogbeta \u001b[38;5;241m=\u001b[39m \u001b[38;5;28mself\u001b[39m\u001b[38;5;241m.\u001b[39mstate\u001b[38;5;241m.\u001b[39mget_Elogbeta()\n\u001b[0;32m   1067\u001b[0m \u001b[38;5;28mself\u001b[39m\u001b[38;5;241m.\u001b[39mstate\u001b[38;5;241m.\u001b[39mblend(rho, other)\n\u001b[1;32m-> 1069\u001b[0m current_Elogbeta \u001b[38;5;241m=\u001b[39m \u001b[38;5;28;43mself\u001b[39;49m\u001b[38;5;241;43m.\u001b[39;49m\u001b[43mstate\u001b[49m\u001b[38;5;241;43m.\u001b[39;49m\u001b[43mget_Elogbeta\u001b[49m\u001b[43m(\u001b[49m\u001b[43m)\u001b[49m\n\u001b[0;32m   1070\u001b[0m \u001b[38;5;28mself\u001b[39m\u001b[38;5;241m.\u001b[39msync_state(current_Elogbeta)\n\u001b[0;32m   1072\u001b[0m \u001b[38;5;66;03m# print out some debug info at the end of each EM iteration\u001b[39;00m\n",
      "\u001b[1;31mKeyboardInterrupt\u001b[0m: "
     ]
    }
   ],
   "source": [
    "lda_model = LdaModel(corpus=corpus,\n",
    "                     id2word=dictionary,\n",
    "                     num_topics=9,\n",
    "                     passes=10,\n",
    "                     random_state=42)"
   ]
  },
  {
   "cell_type": "code",
   "execution_count": null,
   "id": "826fa426",
   "metadata": {},
   "outputs": [],
   "source": [
    "# 키워드 추출\n",
    "topic_keywords = []\n",
    "for i in range(9):\n",
    "    words = lda_model.show_topic(i, topn=15)\n",
    "    keywords = [word for word, _ in words]\n",
    "    topic_keywords.append(keywords)\n",
    "\n",
    "for idx, kw in enumerate(topic_keywords):\n",
    "    print(f\"Topic {idx+1} keywords:\", kw)"
   ]
  },
  {
   "cell_type": "code",
   "execution_count": null,
   "id": "aa77cd5f",
   "metadata": {},
   "outputs": [],
   "source": []
  },
  {
   "cell_type": "code",
   "execution_count": null,
   "id": "7faddc23",
   "metadata": {},
   "outputs": [],
   "source": []
  },
  {
   "cell_type": "code",
   "execution_count": null,
   "id": "ee57dc3f",
   "metadata": {},
   "outputs": [],
   "source": []
  }
 ],
 "metadata": {
  "kernelspec": {
   "display_name": "metaverse_env",
   "language": "python",
   "name": "python3"
  },
  "language_info": {
   "codemirror_mode": {
    "name": "ipython",
    "version": 3
   },
   "file_extension": ".py",
   "mimetype": "text/x-python",
   "name": "python",
   "nbconvert_exporter": "python",
   "pygments_lexer": "ipython3",
   "version": "3.10.18"
  }
 },
 "nbformat": 4,
 "nbformat_minor": 5
}
