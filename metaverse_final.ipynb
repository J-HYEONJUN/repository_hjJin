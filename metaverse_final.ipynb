{
 "cells": [
  {
   "cell_type": "code",
   "execution_count": 3,
   "id": "cb9a8a08",
   "metadata": {},
   "outputs": [],
   "source": [
    "import pandas as pd\n",
    "import re\n",
    "import string\n",
    "import nltk\n",
    "import ssl\n",
    "from nltk import word_tokenize, pos_tag\n",
    "from nltk.corpus import stopwords\n",
    "from nltk.stem import WordNetLemmatizer"
   ]
  },
  {
   "cell_type": "code",
   "execution_count": 6,
   "id": "b653b91d",
   "metadata": {},
   "outputs": [
    {
     "name": "stdout",
     "output_type": "stream",
     "text": [
      "                               reviewId             userName  \\\n",
      "0  8b33921b-b971-49ad-9c43-5f46535d8481       Rhylenn Taylor   \n",
      "1  ddfa4628-ecd7-403d-b4f8-976655986017      Addalaide Clark   \n",
      "2  8d9d55dd-df25-4329-af58-2178007c5434  jennavie kajornklin   \n",
      "3  493e1a17-3af8-4e60-b5d2-a1f9f1056355              Josilyn   \n",
      "4  4ac6c4f5-c019-46f0-b829-8e98d19a93ea                  Eli   \n",
      "\n",
      "                                             content  score  thumbsUpCount  \\\n",
      "0  Perfect App! Though, There are a few problems ...      5            609   \n",
      "1  I love this game. I have so much fun playing w...      4           1384   \n",
      "2  Roblox is my favorite game. But when I play on...      4            576   \n",
      "3  This game is great, amazing almost. But my sit...      1            166   \n",
      "4  been glitching and completely freezing in the ...      1            143   \n",
      "\n",
      "  reviewCreatedVersion                  at appVersion  \n",
      "0            2.578.564 2023-06-24 03:07:01  2.578.564  \n",
      "1            2.578.564 2023-06-25 16:16:14  2.578.564  \n",
      "2            2.578.564 2023-06-21 12:12:21  2.578.564  \n",
      "3            2.578.564 2023-06-24 16:21:53  2.578.564  \n",
      "4            2.578.564 2023-06-24 02:22:29  2.578.564  \n"
     ]
    }
   ],
   "source": [
    "# !pip install openpyxl 해야함\n",
    "\n",
    "file_path = 'C:/Users/USER/OneDrive - 금오공과대학교/02_연구실/02_김민준교수님/2_data\\ROBLOX_DATA_PS.xlsx'\n",
    "\n",
    "df = pd.read_excel(file_path, engine='openpyxl')\n",
    "\n",
    "print(df.head())"
   ]
  },
  {
   "cell_type": "code",
   "execution_count": 7,
   "id": "d4e3239a",
   "metadata": {},
   "outputs": [
    {
     "name": "stdout",
     "output_type": "stream",
     "text": [
      "중복된 행 수: 0\n",
      "중복된 행이 없습니다.\n"
     ]
    }
   ],
   "source": [
    "duplicates = df[df.duplicated(subset=['reviewId', 'at', 'content', 'score'], keep=False)]\n",
    "print(f\"중복된 행 수: {len(duplicates)}\")\n",
    "\n",
    "if not duplicates.empty:\n",
    "    df = df.drop_duplicates(subset=['reviewId', 'at', 'content', 'score'], keep='first')\n",
    "    print(\"중복된 행을 제거했습니다.\")\n",
    "else:\n",
    "    print(\"중복된 행이 없습니다.\")"
   ]
  },
  {
   "cell_type": "code",
   "execution_count": 8,
   "id": "6df585c8",
   "metadata": {},
   "outputs": [
    {
     "name": "stdout",
     "output_type": "stream",
     "text": [
      "showing info https://raw.githubusercontent.com/nltk/nltk_data/gh-pages/index.xml\n"
     ]
    },
    {
     "name": "stderr",
     "output_type": "stream",
     "text": [
      "[nltk_data] Downloading package punkt to\n",
      "[nltk_data]     C:\\Users\\USER\\AppData\\Roaming\\nltk_data...\n",
      "[nltk_data]   Package punkt is already up-to-date!\n",
      "[nltk_data] Downloading package stopwords to\n",
      "[nltk_data]     C:\\Users\\USER\\AppData\\Roaming\\nltk_data...\n",
      "[nltk_data]   Package stopwords is already up-to-date!\n",
      "[nltk_data] Downloading package wordnet to\n",
      "[nltk_data]     C:\\Users\\USER\\AppData\\Roaming\\nltk_data...\n",
      "[nltk_data]   Package wordnet is already up-to-date!\n",
      "[nltk_data] Downloading package averaged_perceptron_tagger to\n",
      "[nltk_data]     C:\\Users\\USER\\AppData\\Roaming\\nltk_data...\n",
      "[nltk_data]   Package averaged_perceptron_tagger is already up-to-\n",
      "[nltk_data]       date!\n"
     ]
    },
    {
     "data": {
      "text/plain": [
       "True"
      ]
     },
     "execution_count": 8,
     "metadata": {},
     "output_type": "execute_result"
    }
   ],
   "source": [
    "# NLTK 다운로드 설정\n",
    "try:\n",
    "    _create_unverified_https_context = ssl._create_unverified_context\n",
    "except AttributeError:\n",
    "    pass\n",
    "else:\n",
    "    ssl._create_default_https_context = _create_unverified_https_context\n",
    "\n",
    "nltk.download()\n",
    "\n",
    "nltk.download('punkt')\n",
    "nltk.download('stopwords')\n",
    "nltk.download('wordnet')\n",
    "nltk.download('averaged_perceptron_tagger')"
   ]
  },
  {
   "cell_type": "markdown",
   "id": "c9623180",
   "metadata": {},
   "source": [
    "이모지 제거, 품사 태깅, 소문자, 마침표, 불용어, 표제어 추출 함수"
   ]
  },
  {
   "cell_type": "code",
   "execution_count": null,
   "id": "537faa0a",
   "metadata": {},
   "outputs": [],
   "source": [
    "def remove_emoji(text):\n",
    "    emoji_pattern = re.compile(\"[\"\n",
    "        u\"\\U0001F600-\\U0001F64F\"\n",
    "        u\"\\U0001F300-\\U0001F5FF\"\n",
    "        u\"\\U0001F680-\\U0001F6FF\"\n",
    "        u\"\\U0001F1E0-\\U0001F1FF\"\n",
    "        \"]+\", flags=re.UNICODE)\n",
    "    return emoji_pattern.sub(r'', text)\n",
    "\n",
    "# 명사만 추출할거라 없어도 됨\n",
    "def get_wordnet_pos(tag):\n",
    "    if tag.startswith('J'): # 형용사\n",
    "        return 'a'\n",
    "    elif tag.startswith('V'): \n",
    "        return 'v'\n",
    "    elif tag.startswith('N'):\n",
    "        return 'n'\n",
    "    elif tag.startswith('R'): # 부사\n",
    "        return 'r'\n",
    "    else:\n",
    "        return 'n'\n",
    "\n",
    "lemmatizer = WordNetLemmatizer()\n",
    "stop_words = set(stopwords.words('english'))\n",
    "\n",
    "def preprocess_text(text):\n",
    "    if not isinstance(text, str):\n",
    "        return []\n",
    "    text = text.lower()\n",
    "    text = remove_emoji(text)\n",
    "    text = text.translate(str.maketrans('', '', string.punctuation))\n",
    "    tokens = word_tokenize(text)\n",
    "    tokens = [word for word in tokens if word not in stop_words]\n",
    "    tagged_tokens = pos_tag(tokens)\n",
    "    \n",
    "    # 여기서 명사만 선택\n",
    "    nouns = [word for word, tag in tagged_tokens if tag.startswith(\"NN\")]\n",
    "    \n",
    "    # 명사만 표제어 추출\n",
    "    lemmatized_nouns = [lemmatizer.lemmatize(word, 'n') for word in nouns]\n",
    "    return lemmatized_nouns"
   ]
  },
  {
   "cell_type": "code",
   "execution_count": 21,
   "id": "b94c58c4",
   "metadata": {},
   "outputs": [
    {
     "name": "stdout",
     "output_type": "stream",
     "text": [
      "                               reviewId             userName  \\\n",
      "0  8b33921b-b971-49ad-9c43-5f46535d8481       Rhylenn Taylor   \n",
      "1  ddfa4628-ecd7-403d-b4f8-976655986017      Addalaide Clark   \n",
      "2  8d9d55dd-df25-4329-af58-2178007c5434  jennavie kajornklin   \n",
      "3  493e1a17-3af8-4e60-b5d2-a1f9f1056355              Josilyn   \n",
      "4  4ac6c4f5-c019-46f0-b829-8e98d19a93ea                  Eli   \n",
      "\n",
      "                                             content  score  thumbsUpCount  \\\n",
      "0  Perfect App! Though, There are a few problems ...      5            609   \n",
      "1  I love this game. I have so much fun playing w...      4           1384   \n",
      "2  Roblox is my favorite game. But when I play on...      4            576   \n",
      "3  This game is great, amazing almost. But my sit...      1            166   \n",
      "4  been glitching and completely freezing in the ...      1            143   \n",
      "\n",
      "  reviewCreatedVersion                  at appVersion  \\\n",
      "0            2.578.564 2023-06-24 03:07:01  2.578.564   \n",
      "1            2.578.564 2023-06-25 16:16:14  2.578.564   \n",
      "2            2.578.564 2023-06-21 12:12:21  2.578.564   \n",
      "3            2.578.564 2023-06-24 16:21:53  2.578.564   \n",
      "4            2.578.564 2023-06-24 02:22:29  2.578.564   \n",
      "\n",
      "                                              tokens  token_count  \n",
      "0  [problem, creator, animation, animation, game,...           15  \n",
      "1  [game, fun, friend, family, issue, game, scree...           14  \n",
      "2  [roblox, game, play, chromebook, frustrating, ...           20  \n",
      "3  [game, situation, everytime, play, roblox, pla...           16  \n",
      "4  [game, computer, review, computer, didnt, issu...           12  \n"
     ]
    }
   ],
   "source": [
    "# 토큰화, 토큰화 후 10 토큰 미만 문장 제거\n",
    "df['tokens'] = df['content'].apply(preprocess_text)\n",
    "df['token_count'] = df['tokens'].apply(len)\n",
    "df_filtered = df[df['token_count'] >= 10].copy()\n",
    "\n",
    "print(df_filtered.head())"
   ]
  },
  {
   "cell_type": "markdown",
   "id": "29f72eec",
   "metadata": {},
   "source": [
    "gensim 설치 안될때  \n",
    "import sys  \n",
    "print(sys.executable)"
   ]
  },
  {
   "cell_type": "code",
   "execution_count": 22,
   "id": "7884d2e5",
   "metadata": {},
   "outputs": [],
   "source": [
    "# LDA\n",
    "# conda에서 설치, conda install -c conda-forge gensim\n",
    "import gensim\n",
    "from gensim import corpora\n",
    "from gensim.models import LdaModel\n",
    "\n",
    "texts = df_filtered['tokens'].tolist() # 각 문장을 리스트 형태의 리스트로 추출\n",
    "dictionary = corpora.Dictionary(texts)\n",
    "corpus = [dictionary.doc2bow(text) for text in texts] # bag of word 형식으로 변환\n"
   ]
  },
  {
   "cell_type": "code",
   "execution_count": 23,
   "id": "456cf8e5",
   "metadata": {},
   "outputs": [
    {
     "data": {
      "image/png": "[encoded data removed]",
      "text/plain": [
       "<Figure size 1200x600 with 1 Axes>"
      ]
     },
     "metadata": {},
     "output_type": "display_data"
    }
   ],
   "source": [
    "import matplotlib.pyplot as plt\n",
    "from collections import Counter\n",
    "\n",
    "# 모든 토큰을 하나의 리스트로 합치기\n",
    "all_tokens = [token for tokens in df_filtered['tokens'] for token in tokens]\n",
    "\n",
    "# 토큰 빈도수 계산\n",
    "token_counts = Counter(all_tokens)\n",
    "\n",
    "# 상위 30개 토큰 추출\n",
    "most_common = token_counts.most_common(30)\n",
    "words, counts = zip(*most_common)\n",
    "\n",
    "# 시각화\n",
    "plt.figure(figsize=(12, 6))\n",
    "plt.bar(words, counts)\n",
    "plt.xticks(rotation=45)\n",
    "plt.title(\"Top 20 Token Frequencies\")\n",
    "plt.xlabel(\"Token\")\n",
    "plt.ylabel(\"Frequency\")\n",
    "plt.tight_layout()\n",
    "plt.show()\n"
   ]
  },
  {
   "cell_type": "code",
   "execution_count": 24,
   "id": "da81628f",
   "metadata": {},
   "outputs": [
    {
     "data": {
      "image/png": "[encoded data removed]",
      "text/plain": [
       "<Figure size 640x480 with 1 Axes>"
      ]
     },
     "metadata": {},
     "output_type": "display_data"
    },
    {
     "name": "stdout",
     "output_type": "stream",
     "text": [
      "Best num_topics = 13, coherence = 0.3852\n"
     ]
    }
   ],
   "source": [
    "from gensim.models import CoherenceModel\n",
    "\n",
    "def compute_coherence_values(dictionary, corpus, texts, start, limit, step):\n",
    "    coherence_values = []\n",
    "    model_list = []\n",
    "    \n",
    "    for num_topics in range(start, limit, step):\n",
    "        model = LdaModel(corpus=corpus,\n",
    "                         id2word=dictionary,\n",
    "                         num_topics=num_topics,\n",
    "                         passes=10,\n",
    "                         random_state=42)\n",
    "        model_list.append(model)\n",
    "        coherencemodel = CoherenceModel(model=model, \n",
    "                                        texts=texts, \n",
    "                                        dictionary=dictionary, \n",
    "                                        coherence='c_v')\n",
    "        coherence_values.append(coherencemodel.get_coherence())\n",
    "    \n",
    "    return model_list, coherence_values\n",
    "\n",
    "# 파라미터 설정\n",
    "start, limit, step = 2, 31, 1  # 토픽 개수: 2 ~ 30\n",
    "\n",
    "# 실행\n",
    "model_list, coherence_values = compute_coherence_values(dictionary=dictionary,\n",
    "                                                        corpus=corpus,\n",
    "                                                        texts=texts,\n",
    "                                                        start=start,\n",
    "                                                        limit=limit,\n",
    "                                                        step=step)\n",
    "\n",
    "# 시각화\n",
    "x = range(start, limit, step)\n",
    "plt.plot(x, coherence_values)\n",
    "plt.xlabel(\"Num Topics\")\n",
    "plt.ylabel(\"Coherence Score\")\n",
    "plt.title(\"Optimal Number of Topics\")\n",
    "plt.show()\n",
    "\n",
    "# 최고 coherence 값을 가진 모델 확인\n",
    "optimal_index = coherence_values.index(max(coherence_values))\n",
    "optimal_model = model_list[optimal_index]\n",
    "print(f\"Best num_topics = {x[optimal_index]}, coherence = {coherence_values[optimal_index]:.4f}\")\n"
   ]
  },
  {
   "cell_type": "code",
   "execution_count": null,
   "id": "e7ea149c",
   "metadata": {},
   "outputs": [],
   "source": [
    "# 모델 1: 토픽 개수 5개\n",
    "lda_model_1 = LdaModel(corpus=corpus,\n",
    "                       id2word=dictionary,\n",
    "                       num_topics=5,\n",
    "                       passes=10,\n",
    "                       random_state=42)\n",
    "\n",
    "# 모델 2: 토픽 개수 13개\n",
    "lda_model_2 = LdaModel(corpus=corpus,\n",
    "                       id2word=dictionary,\n",
    "                       num_topics=13,\n",
    "                       passes=10,\n",
    "                       random_state=42)"
   ]
  },
  {
   "cell_type": "code",
   "execution_count": 31,
   "id": "826fa426",
   "metadata": {},
   "outputs": [
    {
     "name": "stdout",
     "output_type": "stream",
     "text": [
      "[모델 1] 토픽 5개:\n",
      "Topic 1 keywords: ['robux', 'money', 'game', 'thing', 'dont', 'buy', 'get', 'people', 'stuff', 'roblox', 'cost', 'pay', 'item', 'house', 'avatar']\n",
      "Topic 2 keywords: ['game', 'roblox', 'fix', 'play', 'please', 'problem', 'star', 'im', 'pls', 'bug', 'time', 'cant', 'glitch', 'work', 'lag']\n",
      "Topic 3 keywords: ['game', 'play', 'roblox', 'fun', 'friend', 'people', 'love', 'thing', 'lot', 'kid', 'star', 'dont', 'app', 'time', 'thats']\n",
      "Topic 4 keywords: ['phone', 'play', 'computer', 'pc', 'tablet', 'app', 'brother', 'sister', 'download', 'device', 'cousin', 'space', 'cant', 'use', 'update']\n",
      "Topic 5 keywords: ['account', 'log', 'password', 'roblox', 'help', 'please', 'work', 'time', 'cant', 'number', 'didnt', 'name', 'day', 'im', 'sign']\n",
      "\n",
      "[모델 2] 토픽 13개:\n",
      "Topic 1 keywords: ['item', 'clothes', 'price', 'anyways', 'r', 'shirt', 'event', 'avatar', 'hair', 'dollar', 'ppl', 'hashtags', 'face', 'buying', 'refund']\n",
      "Topic 2 keywords: ['glitch', 'bug', 'screen', 'move', 'camera', 'fix', 'button', 'game', 'press', 'zoom', 'jump', 'please', 'pls', 'yea', 'click']\n",
      "Topic 3 keywords: ['game', 'people', 'roblox', 'player', 'hacker', 'thing', 'star', 'report', 'fun', 'lot', 'there', 'reason', 'problem', 'scammer', 'alot']\n",
      "Topic 4 keywords: ['update', 'name', 'month', 'space', 'week', 'idea', 'search', 'ty', 'end', 'dream', 'upgrade', 'understand', 'sound', 'soo', 'suggestion']\n",
      "Topic 5 keywords: ['phone', 'system', 'pas', 'storage', 'rule', 'baby', 'toxic', 'level', 'information', 'earn', 'setting', 'mode', 'samsung', 'picture', 'worth']\n",
      "Topic 6 keywords: ['account', 'log', 'password', 'roblox', 'help', 'please', 'time', 'work', 'today', 'sign', 'acc', 'didnt', 'cant', 'l', 'day']\n",
      "Topic 7 keywords: ['game', 'roblox', 'friend', 'thing', 'app', 'dont', 'love', 'people', 'play', 'im', 'guy', 'time', 'thats', 'fun', 'u']\n",
      "Topic 8 keywords: ['word', 'number', 'tag', 'brother', 'tell', 'sooo', 'type', 'man', 'bacon', 'btw', 'support', 'card', 'company', 'gift', 'couple']\n",
      "Topic 9 keywords: ['game', 'play', 'fun', 'roblox', 'friend', 'love', 'lot', 'people', 'download', 'thing', 'time', 'year', 'day', 'app', 'star']\n",
      "Topic 10 keywords: ['game', 'roblox', 'play', 'please', 'problem', 'fix', 'star', 'im', 'pls', 'time', 'work', 'cant', 'dont', 'lag', 'app']\n",
      "Topic 11 keywords: ['computer', 'pc', 'tablet', 'roblox', 'user', 'device', 'use', 'game', 'mobile', 'player', 'play', 'cant', 'studio', 'xbox', 'chromebook']\n",
      "Topic 12 keywords: ['kid', 'pet', 'child', 'house', 'simulator', 'creator', 'adopt', 'car', 'tycoon', 'city', 'meepcity', 'parent', 'lol', 'game', 'adult']\n",
      "Topic 13 keywords: ['robux', 'money', 'game', 'thing', 'buy', 'dont', 'cost', 'get', 'pay', 'stuff', 'bloxburg', 'avatar', 'make', 'way', 'lot']\n"
     ]
    }
   ],
   "source": [
    "# 🔹 모델 1: 토픽 5개\n",
    "topic_keywords_1 = []\n",
    "for i in range(5):\n",
    "    words = lda_model_1.show_topic(i, topn=15)\n",
    "    keywords = [word for word, _ in words]\n",
    "    topic_keywords_1.append(keywords)\n",
    "\n",
    "print(\"[모델 1] 토픽 5개:\")\n",
    "for idx, kw in enumerate(topic_keywords_1):\n",
    "    print(f\"Topic {idx+1} keywords:\", kw)\n",
    "\n",
    "\n",
    "# 🔹 모델 2: 토픽 13개\n",
    "topic_keywords_2 = []\n",
    "for i in range(13):\n",
    "    words = lda_model_2.show_topic(i, topn=15)\n",
    "    keywords = [word for word, _ in words]\n",
    "    topic_keywords_2.append(keywords)\n",
    "\n",
    "print(\"\\n[모델 2] 토픽 13개:\")\n",
    "for idx, kw in enumerate(topic_keywords_2):\n",
    "    print(f\"Topic {idx+1} keywords:\", kw)"
   ]
  },
  {
   "cell_type": "markdown",
   "id": "b57f7a6b",
   "metadata": {},
   "source": [
    "### 최종 LDA"
   ]
  },
  {
   "cell_type": "code",
   "execution_count": null,
   "id": "aa77cd5f",
   "metadata": {},
   "outputs": [],
   "source": [
    "# 1. 사용자 정의 불용어 리스트\n",
    "custom_stopwords = [\n",
    "    'thing', 'get', 'make', 'lot', 'way', 'dont', 'pls', 'please',\n",
    "    'im', \"i'm\", 'u', 'alot', 'sooo', 'yea',\n",
    "    'today', 'day', 'time', 'year', 'month', 'week',\n",
    "    'ppl', 'people',\n",
    "    'game', 'robux', 'roblox'\n",
    "]\n",
    "\n",
    "# ✅ acc를 account로 치환\n",
    "texts = [[(\"account\" if word == \"acc\" else word) for word in doc] for doc in texts]"
   ]
  },
  {
   "cell_type": "code",
   "execution_count": 32,
   "id": "7faddc23",
   "metadata": {},
   "outputs": [
    {
     "data": {
      "image/png": "[encoded data removed]",
      "text/plain": [
       "<Figure size 640x480 with 1 Axes>"
      ]
     },
     "metadata": {},
     "output_type": "display_data"
    }
   ],
   "source": [
    "import copy\n",
    "\n",
    "# 2. 기존 dictionary 복사 후 불용어 제거 → dictionary_final\n",
    "dictionary_final = copy.deepcopy(dictionary)\n",
    "stopword_ids = [dictionary_final.token2id[word] for word in custom_stopwords if word in dictionary_final.token2id]\n",
    "dictionary_final.filter_tokens(bad_ids=stopword_ids)\n",
    "dictionary_final.compactify()\n",
    "\n",
    "# 3. corpus_final 재생성 (불용어 제거 후 기준)\n",
    "corpus_final = [dictionary_final.doc2bow(text) for text in texts]\n",
    "\n",
    "# 4. coherence 계산 함수 정의\n",
    "def compute_coherence_values(dictionary, corpus, texts, start, limit, step):\n",
    "    coherence_values = []\n",
    "    model_list = []\n",
    "    \n",
    "    for num_topics in range(start, limit, step):\n",
    "        model = LdaModel(corpus=corpus,\n",
    "                         id2word=dictionary,\n",
    "                         num_topics=num_topics,\n",
    "                         passes=10,\n",
    "                         random_state=42)\n",
    "        model_list.append(model)\n",
    "        coherencemodel = CoherenceModel(model=model, \n",
    "                                        texts=texts, \n",
    "                                        dictionary=dictionary, \n",
    "                                        coherence='c_v')\n",
    "        coherence_values.append(coherencemodel.get_coherence())\n",
    "    \n",
    "    return model_list, coherence_values\n",
    "\n",
    "# 5. 토픽 개수 범위 설정 및 실행\n",
    "start, limit, step = 2, 31, 1\n",
    "model_list, coherence_values = compute_coherence_values(\n",
    "    dictionary=dictionary_final,\n",
    "    corpus=corpus_final,\n",
    "    texts=texts,\n",
    "    start=start,\n",
    "    limit=limit,\n",
    "    step=step\n",
    ")\n",
    "\n",
    "# 6. 시각화\n",
    "x = range(start, limit, step)\n",
    "plt.plot(x, coherence_values)\n",
    "plt.xlabel(\"Num Topics\")\n",
    "plt.ylabel(\"Coherence Score\")\n",
    "plt.title(\"Optimal Number of Topics\")\n",
    "plt.show()"
   ]
  },
  {
   "cell_type": "code",
   "execution_count": 36,
   "id": "ee57dc3f",
   "metadata": {},
   "outputs": [
    {
     "name": "stdout",
     "output_type": "stream",
     "text": [
      "Optimal Model: 6 Topics\n",
      "Topic 1 keywords: ['play', 'phone', 'star', 'problem', 'fix', 'app', 'work', 'cant', 'lag', 'internet', 'love', 'computer', 'update', 'reason', 'tablet']\n",
      "Topic 2 keywords: ['money', 'star', 'fun', 'buy', 'bloxburg', 'hacker', 'stuff', 'adopt', 'love', 'thats', 'cost', 'pay', 'bye', 'pet', 'item']\n",
      "Topic 3 keywords: ['play', 'friend', 'fun', 'love', 'app', 'download', 'world', 'life', 'family', 'star', 'there', 'thats', 'playing', 'everyone', 'cool']\n",
      "Topic 4 keywords: ['fix', 'bug', 'glitch', 'problem', 'screen', 'move', 'camera', 'star', 'cant', 'button', 'play', 'player', 'join', 'press', 'zoom']\n",
      "Topic 5 keywords: ['account', 'log', 'password', 'help', 'name', 'work', 'cant', 'fix', 'didnt', 'sign', 'change', 'something', 'problem', 'verification', 'try']\n",
      "Topic 6 keywords: ['kid', 'word', 'player', 'number', 'report', 'child', 'tag', 'age', 'fun', 'parent', 'something', 'someone', 'chat', 'hacker', 'reason']\n"
     ]
    }
   ],
   "source": [
    "# 7. 최고 coherence 모델 선택 (불용어 제거 반영)\n",
    "optimal_index = coherence_values.index(max(coherence_values))\n",
    "optimal_model = model_list[optimal_index]\n",
    "optimal_num_topics = range(start, limit, step)[optimal_index]\n",
    "\n",
    "# 8. 최적 토픽 수 기준 모델에서 토픽 키워드 추출\n",
    "topic_keywords = []\n",
    "for i in range(6):\n",
    "    words = optimal_model.show_topic(i, topn=15)\n",
    "    keywords = [word for word, _ in words]\n",
    "    topic_keywords.append(keywords)\n",
    "\n",
    "# 9. 출력\n",
    "print(f\"Optimal Model: 6 Topics\")\n",
    "for idx, kw in enumerate(topic_keywords):\n",
    "    print(f\"Topic {idx+1} keywords:\", kw)"
   ]
  },
  {
   "cell_type": "code",
   "execution_count": null,
   "id": "b8825d10",
   "metadata": {},
   "outputs": [],
   "source": [
    "from gensim.models import Word2Vec\n",
    "\n",
    "# Word2Vec 모델 학습\n",
    "w2v_model = Word2Vec(\n",
    "    sentences=texts,  \n",
    "    vector_size=100,  \n",
    "    window=5,         \n",
    "    min_count=5,      \n",
    "    workers=4,       \n",
    "    sg=1              \n",
    ")"
   ]
  },
  {
   "cell_type": "code",
   "execution_count": null,
   "id": "614c7702",
   "metadata": {},
   "outputs": [
    {
     "name": "stdout",
     "output_type": "stream",
     "text": [
      "Topic 1 (명사만 필터링한 확장 포함 keywords):\n",
      "['frist', 'reveiw', 'couldnt', 'ipad', 'app', 'lag', 'computer', 'gadget', 'gamesits', 'internet', 'game', 'deliver', 'leaf', 'fivestar', 'phone', 'thisbut', 'thr', 'amazingbut', 'tablet', 'patient', 'repair', 'cellphone', 'connection', '⭐', 'fixe', 'editit', 'problemthe', 'appi', 'problem', 'fix', 'reason', 'spike', 'play', 'laggs', 'star', 'delet', 'delivers', 'work', 'dose']\n",
      "Topic 2 (명사만 필터링한 확장 포함 keywords):\n",
      "['exploiter', 'overlook', 'bay', 'jenna', 'roubux', 'idc', 'fun', 'adoptme', 'buy', 'item', 'roblux', 'hacker', 'avator', 'hatch', 'bloxburg', 'fivestar', 'highadopt', 'gamesi', '♡', 'pricey', '🥰', '⭐', 'sell', 'hehe', 'neon', 'awsome', 'funyou', 'sale', 'ride', 'millon', 'ware', 'money', 'pay', 'cent', 'convert', 'verity', 'star', 'stuff', 'bye', 'scamers', 'thing']\n",
      "Topic 3 (명사만 필터링한 확장 포함 keywords):\n",
      "['friendsand', 'frist', 'alots', 'fun', 'gamesits', 'game', 'socialize', 'downloads', 'world', 'gamesi', 'wolf', 'depression', 'dowload', 'coolest', 'patient', 'promise', '⭐', 'friendsi', 'download', 'thats', 'comunicate', 'thinking', 'iv', 'friend', 'relax', 'expirence', 'millon', 'everyone', 'play', 'playi', 'verity', 'life', 'star', 'family']\n",
      "Topic 4 (명사만 필터링한 확장 포함 keywords):\n",
      "['multi', 'press', 'zoom', 'couldnt', 'screen', 'teleports', 'corner', 'game', 'player', 'leaf', 'bug', 'fivestar', 'amazingbut', 'thisbut', 'thr', 'tap', 'inout', 'button', 'repair', 'stucks', '⭐', 'join', 'problemthe', 'severs', 'problem', 'play', 'angle', 'move', 'playi', 'star', 'disadvantage', 'walk', 'rotate', 'click', 'advantage', 'cant', 'camera']\n",
      "Topic 5 (명사만 필터링한 확장 포함 keywords):\n",
      "['sign', 'reply', 'didnt', 'wasnt', 'account', 'help', 'alt', 'dice', 'deliver', 'change', 'usernames', 'fixing', 'amazingbut', 'article', 'thisbut', 'step', 'repair', 'log', 'editit', 'display', 'password', 'problemthe', 'problem', 'vertification', 'fix', 'verification', 'ir', 'agin', 'dosnt', 'login', 'sends', 'something', 'respond', 'chang', 'work', 'username']\n",
      "Topic 6 (명사만 필터링한 확장 포함 keywords):\n",
      "['multi', 'restriction', 'reveiw', 'exploiter', 'cuss', 'curse', 'jenna', 'fun', 'hacker', 'tag', 'player', 'parent', 'age', 'viewer', 'advise', 'blank', 'word', 'swearing', 'adresses', 'supervision', 'reporting', 'hash', 'funyou', 'punishment', 'child', 'reason', 'speak', 'millon', 'somebody', 'profanity', 'harassment', 'swears', 'verity', 'disadvantage', 'reson', 'teenager', 'hashtags', 'report', 'something', 'scamers', 'someone', 'number']\n"
     ]
    },
    {
     "name": "stderr",
     "output_type": "stream",
     "text": [
      "[nltk_data] Downloading package averaged_perceptron_tagger to\n",
      "[nltk_data]     C:\\Users\\USER\\AppData\\Roaming\\nltk_data...\n",
      "[nltk_data]   Package averaged_perceptron_tagger is already up-to-\n",
      "[nltk_data]       date!\n"
     ]
    }
   ],
   "source": [
    "nltk.download('averaged_perceptron_tagger')\n",
    "\n",
    "# 1. 명사만 필터링하는 함수\n",
    "def filter_nouns(word_list):\n",
    "    tagged = pos_tag(word_list)\n",
    "    nouns = [word for word, pos in tagged if pos.startswith('NN')]  # NN, NNS, NNP, NNPS\n",
    "    return nouns\n",
    "\n",
    "# 2. Word2Vec 기반 유사어 확장 함수\n",
    "def expand_keywords_with_word2vec(keywords, model, topn=5):\n",
    "    expanded = set(keywords)\n",
    "    for word in keywords:\n",
    "        if word in model.wv.key_to_index:\n",
    "            similar_words = model.wv.most_similar(word, topn=topn)\n",
    "            for sim_word, _ in similar_words:\n",
    "                expanded.add(sim_word)\n",
    "    return list(expanded)\n",
    "\n",
    "# 3. 각 토픽별로 확장 + 명사 필터링\n",
    "expanded_topic_keywords = []\n",
    "for topic in topic_keywords:\n",
    "    expanded = expand_keywords_with_word2vec(topic, w2v_model, topn=3)\n",
    "    nouns_only = filter_nouns(expanded)\n",
    "    expanded_topic_keywords.append(nouns_only)\n",
    "\n",
    "# 4. 결과 출력\n",
    "for idx, kw in enumerate(expanded_topic_keywords):\n",
    "    print(f\"Topic {idx+1} (명사만 필터링한 확장 포함 keywords):\")\n",
    "    print(kw)"
   ]
  },
  {
   "cell_type": "code",
   "execution_count": 49,
   "id": "743c6f29",
   "metadata": {},
   "outputs": [
    {
     "name": "stdout",
     "output_type": "stream",
     "text": [
      "Topic 1 (불용어 제거 후):\n",
      "['frist', 'reveiw', 'ipad', 'lag', 'computer', 'gadget', 'internet', 'game', 'phone', 'tablet', 'patient', 'repair', 'cellphone', 'connection', 'problem', 'fix', 'reason', 'spike', 'play', 'laggs', 'delet', 'work', 'dose']\n",
      "Topic 2 (불용어 제거 후):\n",
      "['exploiter', 'overlook', 'bay', 'jenna', 'roubux', 'fun', 'adoptme', 'buy', 'item', 'roblux', 'hacker', 'avator', 'hatch', 'bloxburg', 'highadopt', 'pricey', 'sell', 'hehe', 'neon', 'awsome', 'sale', 'ride', 'millon', 'money', 'pay', 'cent', 'convert', 'stuff', 'bye', 'scamers']\n",
      "Topic 3 (불용어 제거 후):\n",
      "['friendsand', 'frist', 'alots', 'fun', 'game', 'socialize', 'downloads', 'world', 'wolf', 'depression', 'dowload', 'coolest', 'patient', 'promise', 'download', 'thats', 'comunicate', 'thinking', 'iv', 'friend', 'relax', 'expirence', 'millon', 'everyone', 'play', 'life', 'family']\n",
      "Topic 4 (불용어 제거 후):\n",
      "['multi', 'press', 'zoom', 'screen', 'teleports', 'corner', 'game', 'player', 'bug', 'tap', 'inout', 'button', 'repair', 'stucks', 'join', 'severs', 'problem', 'play', 'angle', 'move', 'disadvantage', 'walk', 'rotate', 'click', 'advantage', 'cant', 'camera']\n",
      "Topic 5 (불용어 제거 후):\n",
      "['reply', 'account', 'help', 'alt', 'dice', 'change', 'usernames', 'fixing', 'article', 'step', 'repair', 'display', 'password', 'problem', 'vertification', 'fix', 'verification', 'login', 'sends', 'work', 'username']\n",
      "Topic 6 (불용어 제거 후):\n",
      "['multi', 'restriction', 'reveiw', 'exploiter', 'cuss', 'curse', 'jenna', 'fun', 'hacker', 'tag', 'player', 'parent', 'age', 'viewer', 'advise', 'blank', 'word', 'swearing', 'adresses', 'supervision', 'reporting', 'hash', 'punishment', 'child', 'reason', 'speak', 'millon', 'somebody', 'profanity', 'harassment', 'swears', 'disadvantage', 'teenager', 'hashtags', 'report', 'scamers', 'someone', 'number']\n"
     ]
    }
   ],
   "source": [
    "custom_stopwords2 = [\n",
    "    'fixe', 'thisbut', 'amazingbut', 'problemthe', 'editit', 'delivers', 'gamesi', 'gamesits',\n",
    "    'friendsi', 'funyou', 'fivestar', 'leaf', 'thr', 'app', 'appi', 'idc',\n",
    "    '🥰', '♡', '⭐', 'star', 'playi', 'ware', 'verity', 'reson', 'chang', 'didnt',\n",
    "    'wasnt', 'couldnt', 'agin', 'ir', 'dosnt', 'respond', 'deliver', 'log',\n",
    "    'sign', 'thing', 'something'\n",
    "]\n",
    "\n",
    "# 불용어 제거 함수\n",
    "def remove_custom_stopwords2(keywords, stopwords):\n",
    "    return [word for word in keywords if word not in stopwords]\n",
    "\n",
    "# 적용\n",
    "filtered_topic_keywords = []\n",
    "for topic in expanded_topic_keywords:\n",
    "    filtered = remove_custom_stopwords2(topic, custom_stopwords2)\n",
    "    filtered_topic_keywords.append(filtered)\n",
    "\n",
    "# 결과 출력\n",
    "for idx, kw in enumerate(filtered_topic_keywords):\n",
    "    print(f\"Topic {idx+1} (불용어 제거 후):\")\n",
    "    print(kw)\n"
   ]
  },
  {
   "cell_type": "code",
   "execution_count": 57,
   "id": "ed4e9d9f",
   "metadata": {},
   "outputs": [
    {
     "name": "stderr",
     "output_type": "stream",
     "text": [
      "[nltk_data] Downloading package vader_lexicon to\n",
      "[nltk_data]     C:\\Users\\USER\\AppData\\Roaming\\nltk_data...\n",
      "[nltk_data]   Package vader_lexicon is already up-to-date!\n"
     ]
    }
   ],
   "source": [
    "# VADER 다운로드\n",
    "nltk.download('vader_lexicon')\n",
    "from nltk.sentiment.vader import SentimentIntensityAnalyzer\n",
    "analyzer = SentimentIntensityAnalyzer()\n",
    "\n",
    "# 리뷰 데이터프레임: df\n",
    "# - df['content']: 리뷰 텍스트\n",
    "# - df['score']: 1~5 평점\n",
    "# - expanded_topic_keywords_filtered: 불용어 제거 후 topic1~9 키워드 리스트\n",
    "\n",
    "review_feature_scores = []\n",
    "\n",
    "for texts in df['content']:\n",
    "    row_scores = []\n",
    "    for keywords in filtered_topic_keywords:  # topic1~9\n",
    "        if any(kw in texts for kw in keywords):\n",
    "            # 해당 토픽 키워드 중 하나라도 리뷰에 있으면 감성 점수 측정\n",
    "            score = analyzer.polarity_scores(texts)['compound']\n",
    "        else:\n",
    "            score = 0.0\n",
    "        row_scores.append(round(score, 2))  # 소수점 2자리\n",
    "    review_feature_scores.append(row_scores)\n",
    "\n",
    "# 결과 DataFrame으로 저장\n",
    "features_df = pd.DataFrame(review_feature_scores, columns=[f'f{i+1}' for i in range(6)])\n",
    "features_df.insert(0, \"No.\", range(1, len(features_df) + 1))  # No. 추가\n",
    "\n",
    "# 평점 이진화 (score ≥ 4 → 1, else 0)\n",
    "features_df['Overall Rating'] = df['score'].apply(lambda x: 1 if x >= 4 else 0)"
   ]
  },
  {
   "cell_type": "code",
   "execution_count": 59,
   "id": "70fab3fe",
   "metadata": {},
   "outputs": [
    {
     "data": {
      "text/html": [
       "<div>\n",
       "<style scoped>\n",
       "    .dataframe tbody tr th:only-of-type {\n",
       "        vertical-align: middle;\n",
       "    }\n",
       "\n",
       "    .dataframe tbody tr th {\n",
       "        vertical-align: top;\n",
       "    }\n",
       "\n",
       "    .dataframe thead th {\n",
       "        text-align: right;\n",
       "    }\n",
       "</style>\n",
       "<table border=\"1\" class=\"dataframe\">\n",
       "  <thead>\n",
       "    <tr style=\"text-align: right;\">\n",
       "      <th></th>\n",
       "      <th>No.</th>\n",
       "      <th>f1</th>\n",
       "      <th>f2</th>\n",
       "      <th>f3</th>\n",
       "      <th>f4</th>\n",
       "      <th>f5</th>\n",
       "      <th>f6</th>\n",
       "      <th>Overall Rating</th>\n",
       "    </tr>\n",
       "  </thead>\n",
       "  <tbody>\n",
       "    <tr>\n",
       "      <th>0</th>\n",
       "      <td>1</td>\n",
       "      <td>-0.51</td>\n",
       "      <td>0.00</td>\n",
       "      <td>-0.51</td>\n",
       "      <td>-0.51</td>\n",
       "      <td>-0.51</td>\n",
       "      <td>0.00</td>\n",
       "      <td>1</td>\n",
       "    </tr>\n",
       "    <tr>\n",
       "      <th>1</th>\n",
       "      <td>2</td>\n",
       "      <td>0.73</td>\n",
       "      <td>0.73</td>\n",
       "      <td>0.73</td>\n",
       "      <td>0.73</td>\n",
       "      <td>0.73</td>\n",
       "      <td>0.73</td>\n",
       "      <td>1</td>\n",
       "    </tr>\n",
       "    <tr>\n",
       "      <th>2</th>\n",
       "      <td>3</td>\n",
       "      <td>-0.45</td>\n",
       "      <td>0.00</td>\n",
       "      <td>-0.45</td>\n",
       "      <td>-0.45</td>\n",
       "      <td>-0.45</td>\n",
       "      <td>0.00</td>\n",
       "      <td>1</td>\n",
       "    </tr>\n",
       "    <tr>\n",
       "      <th>3</th>\n",
       "      <td>4</td>\n",
       "      <td>0.32</td>\n",
       "      <td>0.00</td>\n",
       "      <td>0.32</td>\n",
       "      <td>0.32</td>\n",
       "      <td>0.32</td>\n",
       "      <td>0.00</td>\n",
       "      <td>0</td>\n",
       "    </tr>\n",
       "    <tr>\n",
       "      <th>4</th>\n",
       "      <td>5</td>\n",
       "      <td>-0.02</td>\n",
       "      <td>0.00</td>\n",
       "      <td>-0.02</td>\n",
       "      <td>-0.02</td>\n",
       "      <td>-0.02</td>\n",
       "      <td>0.00</td>\n",
       "      <td>0</td>\n",
       "    </tr>\n",
       "  </tbody>\n",
       "</table>\n",
       "</div>"
      ],
      "text/plain": [
       "   No.    f1    f2    f3    f4    f5    f6  Overall Rating\n",
       "0    1 -0.51  0.00 -0.51 -0.51 -0.51  0.00               1\n",
       "1    2  0.73  0.73  0.73  0.73  0.73  0.73               1\n",
       "2    3 -0.45  0.00 -0.45 -0.45 -0.45  0.00               1\n",
       "3    4  0.32  0.00  0.32  0.32  0.32  0.00               0\n",
       "4    5 -0.02  0.00 -0.02 -0.02 -0.02  0.00               0"
      ]
     },
     "execution_count": 59,
     "metadata": {},
     "output_type": "execute_result"
    }
   ],
   "source": [
    "features_df.head()"
   ]
  },
  {
   "cell_type": "code",
   "execution_count": 61,
   "id": "aa43a76e",
   "metadata": {},
   "outputs": [
    {
     "name": "stdout",
     "output_type": "stream",
     "text": [
      "Optimization terminated successfully.\n",
      "         Current function value: 0.418573\n",
      "         Iterations 6\n",
      "                           Logit Regression Results                           \n",
      "==============================================================================\n",
      "Dep. Variable:         Overall Rating   No. Observations:               235755\n",
      "Model:                          Logit   Df Residuals:                   235748\n",
      "Method:                           MLE   Df Model:                            6\n",
      "Date:                Wed, 16 Jul 2025   Pseudo R-squ.:                  0.1526\n",
      "Time:                        19:49:11   Log-Likelihood:                -98681.\n",
      "converged:                       True   LL-Null:                   -1.1645e+05\n",
      "Covariance Type:            nonrobust   LLR p-value:                     0.000\n",
      "==============================================================================\n",
      "                 coef    std err          z      P>|z|      [0.025      0.975]\n",
      "------------------------------------------------------------------------------\n",
      "const          0.6428      0.007     97.357      0.000       0.630       0.656\n",
      "f1             0.9414      0.041     22.822      0.000       0.861       1.022\n",
      "f2             0.3025      0.021     14.283      0.000       0.261       0.344\n",
      "f3             1.0826      0.034     31.965      0.000       1.016       1.149\n",
      "f4             0.0229      0.044      0.526      0.599      -0.062       0.108\n",
      "f5            -1.0030      0.017    -58.130      0.000      -1.037      -0.969\n",
      "f6             0.0166      0.021      0.800      0.424      -0.024       0.057\n",
      "==============================================================================\n"
     ]
    }
   ],
   "source": [
    "import statsmodels.api as sm\n",
    "\n",
    "# 입력 변수: f1 ~ f9 (또는 실제 사용한 feature 수에 맞게 조정)\n",
    "X = features_df[[f\"f{i+1}\" for i in range(6)]]\n",
    "\n",
    "# 절편항 추가\n",
    "X = sm.add_constant(X)\n",
    "\n",
    "# 출력 변수: Overall Rating\n",
    "y = features_df[\"Overall Rating\"]\n",
    "\n",
    "# 로지스틱 회귀 적합\n",
    "model = sm.Logit(y, X)\n",
    "result = model.fit()\n",
    "\n",
    "# 요약 출력\n",
    "print(result.summary())"
   ]
  },
  {
   "cell_type": "code",
   "execution_count": null,
   "id": "882f10e5",
   "metadata": {},
   "outputs": [],
   "source": []
  }
 ],
 "metadata": {
  "kernelspec": {
   "display_name": "metaverse_env",
   "language": "python",
   "name": "python3"
  },
  "language_info": {
   "codemirror_mode": {
    "name": "ipython",
    "version": 3
   },
   "file_extension": ".py",
   "mimetype": "text/x-python",
   "name": "python",
   "nbconvert_exporter": "python",
   "pygments_lexer": "ipython3",
   "version": "3.10.18"
  }
 },
 "nbformat": 4,
 "nbformat_minor": 5
}
